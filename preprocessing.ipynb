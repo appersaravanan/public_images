{
  "nbformat": 4,
  "nbformat_minor": 0,
  "metadata": {
    "colab": {
      "provenance": [],
      "authorship_tag": "ABX9TyP2MvcqEFUwb0wLApEUoCBw",
      "include_colab_link": true
    },
    "kernelspec": {
      "name": "python3",
      "display_name": "Python 3"
    },
    "language_info": {
      "name": "python"
    }
  },
  "cells": [
    {
      "cell_type": "markdown",
      "metadata": {
        "id": "view-in-github",
        "colab_type": "text"
      },
      "source": [
        "<a href=\"https://colab.research.google.com/github/appersaravanan/public_images/blob/main/preprocessing.ipynb\" target=\"_parent\"><img src=\"https://colab.research.google.com/assets/colab-badge.svg\" alt=\"Open In Colab\"/></a>"
      ]
    },
    {
      "cell_type": "code",
      "execution_count": 1,
      "metadata": {
        "id": "H96x_3K6SfkF"
      },
      "outputs": [],
      "source": [
        "import os\n",
        "from collections import defaultdict\n",
        "import math\n",
        "import networkx as nx\n",
        "import random\n",
        "from tqdm import tqdm\n",
        "from zipfile import ZipFile\n",
        "from urllib.request import urlretrieve\n",
        "import numpy as np\n",
        "import pandas as pd\n",
        "import tensorflow as tf\n",
        "from tensorflow import keras\n",
        "from tensorflow.keras import layers\n",
        "import matplotlib.pyplot as plt\n",
        "import gzip as gzip_lib\n",
        "import numpy as np\n",
        "import os\n",
        "import pprint\n",
        "import shutil\n",
        "import tempfile\n",
        "import urllib\n",
        "import uuid"
      ]
    },
    {
      "cell_type": "code",
      "source": [
        "!git clone https://github.com/appersaravanan/public_images.git"
      ],
      "metadata": {
        "colab": {
          "base_uri": "https://localhost:8080/"
        },
        "id": "PhSDl6ZbSnAk",
        "outputId": "1b8bc565-d542-48f6-edd1-eba34e985be5"
      },
      "execution_count": 2,
      "outputs": [
        {
          "output_type": "stream",
          "name": "stdout",
          "text": [
            "Cloning into 'public_images'...\n",
            "remote: Enumerating objects: 2608, done.\u001b[K\n",
            "remote: Counting objects: 100% (52/52), done.\u001b[K\n",
            "remote: Compressing objects: 100% (38/38), done.\u001b[K\n",
            "remote: Total 2608 (delta 16), reused 40 (delta 11), pack-reused 2556\u001b[K\n",
            "Receiving objects: 100% (2608/2608), 284.32 MiB | 25.35 MiB/s, done.\n",
            "Resolving deltas: 100% (80/80), done.\n",
            "Updating files: 100% (5051/5051), done.\n"
          ]
        }
      ]
    },
    {
      "cell_type": "code",
      "source": [
        "!wget https://raw.githubusercontent.com/mrdbourke/tensorflow-deep-learning/main/extras/helper_functions.py"
      ],
      "metadata": {
        "colab": {
          "base_uri": "https://localhost:8080/"
        },
        "id": "mHEtbkdnLwcx",
        "outputId": "0ac3eb6f-7dc3-44e3-9754-64795b0f7338"
      },
      "execution_count": 44,
      "outputs": [
        {
          "output_type": "stream",
          "name": "stdout",
          "text": [
            "--2023-04-03 12:54:39--  https://raw.githubusercontent.com/mrdbourke/tensorflow-deep-learning/main/extras/helper_functions.py\n",
            "Resolving raw.githubusercontent.com (raw.githubusercontent.com)... 185.199.108.133, 185.199.111.133, 185.199.110.133, ...\n",
            "Connecting to raw.githubusercontent.com (raw.githubusercontent.com)|185.199.108.133|:443... connected.\n",
            "HTTP request sent, awaiting response... 200 OK\n",
            "Length: 10246 (10K) [text/plain]\n",
            "Saving to: ‘helper_functions.py’\n",
            "\n",
            "helper_functions.py 100%[===================>]  10.01K  --.-KB/s    in 0s      \n",
            "\n",
            "2023-04-03 12:54:40 (72.1 MB/s) - ‘helper_functions.py’ saved [10246/10246]\n",
            "\n"
          ]
        }
      ]
    },
    {
      "cell_type": "code",
      "source": [
        "!mv  /content/public_images/interim/ /content/sample_data/bills_file/"
      ],
      "metadata": {
        "id": "NoD12Vko0plP"
      },
      "execution_count": 4,
      "outputs": []
    },
    {
      "cell_type": "code",
      "source": [
        "#movies = pd.read_csv(\"/content/public_images/interim/000.csv\",on_bad_lines='skip')\n",
        "base_path=\"/content/sample_data/bills_file/\"\n",
        "filenames= os.listdir(base_path)\n",
        "len(filenames)"
      ],
      "metadata": {
        "colab": {
          "base_uri": "https://localhost:8080/"
        },
        "id": "qca14y6ZlZc5",
        "outputId": "2116f166-cbd7-4f52-dd3f-aa8dc83578fa"
      },
      "execution_count": 65,
      "outputs": [
        {
          "output_type": "execute_result",
          "data": {
            "text/plain": [
              "626"
            ]
          },
          "metadata": {},
          "execution_count": 65
        }
      ]
    },
    {
      "cell_type": "code",
      "source": [
        "len(filenames)\n",
        "labels=[]\n",
        "sentences=[]\n",
        "bb=[]\n",
        "train_sentences=[]\n",
        "train_bb=[]\n",
        "train_labels=[]\n",
        "test_sentences=[];\n",
        "test_bb=[]\n",
        "test_labels=[];\n",
        "valid_sentences=[];\n",
        "valid_bb=[];\n",
        "valid_labels=[];\n",
        "def get_train_test_data():\n",
        " \n",
        " \n",
        " \n",
        "  for filename in filenames :\n",
        "    if int(filename.split(\".\")[0]) >550:  \n",
        "      sentences= valid_sentences;  \n",
        "      labels=valid_labels;\n",
        "      bb=valid_bb\n",
        "      \n",
        "    elif int(filename.split(\".\")[0]) > 100: \n",
        "      sentences= train_sentences;   \n",
        "      labels=train_labels;\n",
        "      bb=train_bb\n",
        "    else:\n",
        "      sentences=test_sentences;\n",
        "      labels=test_labels;\n",
        "      bb=test_bb;\n",
        "    \n",
        "    path=\"{}{}\".format(base_path,filename)\n",
        "    df=pd.read_csv(path,on_bad_lines='skip')\n",
        "    for i in range(len(df)):   \n",
        "      sentences.append(df.iloc[i, 8])\n",
        "      bb.append([df.iloc[i,0:8]])\n",
        "      label=df.iloc[i, 9]\n",
        "      if pd.isna(label):\n",
        "        labels.append(0)\n",
        "      elif label==\"company\":\n",
        "        labels.append(0)\n",
        "      elif label==\"address\":\n",
        "        labels.append(1)\n",
        "      elif label==\"invoice\":\n",
        "        labels.append(2)\n",
        "      elif label==\"date\":\n",
        "        labels.append(3)\n",
        "      elif label==\"total \" or  label==\"total\":\n",
        "        labels.append(4 )\n",
        "      else:\n",
        "        print(label)\n",
        "      \n",
        "\n",
        "\n"
      ],
      "metadata": {
        "id": "CCR5fblfEv58"
      },
      "execution_count": 110,
      "outputs": []
    },
    {
      "cell_type": "code",
      "source": [
        "get_train_test_data()\n",
        "lastIndex=2\n",
        "(train_sentences[:lastIndex], train_labels[:lastIndex],train_bb[:lastIndex]),\n",
        "(test_sentences[:lastIndex], test_labels[:lastIndex], test_bb[:lastIndex]),\n",
        "(valid_sentences[:lastIndex],valid_labels[:lastIndex],valid_bb[:lastIndex])"
      ],
      "metadata": {
        "colab": {
          "base_uri": "https://localhost:8080/"
        },
        "id": "tyanPq9csmKE",
        "outputId": "cdddb8e0-00f7-4e76-f81d-1956866bde44"
      },
      "execution_count": 111,
      "outputs": [
        {
          "output_type": "execute_result",
          "data": {
            "text/plain": [
              "(['POPULAR BOOK',\n",
              "  'CO. (M) SDN BHD',\n",
              "  '(CO. NO. 113825-W)',\n",
              "  '(GST REG NO. 001492992000)',\n",
              "  'NO 8, JALAN 7/118B, DESA TUN RAZAK'],\n",
              " [0, 0, 0, 1, 1],\n",
              " [[0    189\n",
              "   1    280\n",
              "   2    710\n",
              "   3    280\n",
              "   4    710\n",
              "   5    322\n",
              "   6    189\n",
              "   7    322\n",
              "   Name: 0, dtype: object],\n",
              "  [0    139\n",
              "   1    330\n",
              "   2    806\n",
              "   3    330\n",
              "   4    806\n",
              "   5    372\n",
              "   6    139\n",
              "   7    372\n",
              "   Name: 1, dtype: object],\n",
              "  [0    256\n",
              "   1    381\n",
              "   2    649\n",
              "   3    381\n",
              "   4    649\n",
              "   5    424\n",
              "   6    256\n",
              "   7    424\n",
              "   Name: 2, dtype: object],\n",
              "  [0    165\n",
              "   1    433\n",
              "   2    735\n",
              "   3    433\n",
              "   4    735\n",
              "   5    478\n",
              "   6    165\n",
              "   7    478\n",
              "   Name: 3, dtype: object],\n",
              "  [0     71\n",
              "   1    482\n",
              "   2    827\n",
              "   3    482\n",
              "   4    827\n",
              "   5    520\n",
              "   6     71\n",
              "   7    520\n",
              "   Name: 4, dtype: object]])"
            ]
          },
          "metadata": {},
          "execution_count": 111
        }
      ]
    },
    {
      "cell_type": "code",
      "source": [
        "train_bb[1]"
      ],
      "metadata": {
        "colab": {
          "base_uri": "https://localhost:8080/"
        },
        "id": "muzBhOIsXiBX",
        "outputId": "77122b78-9771-45af-96cc-a1014cfc2450"
      },
      "execution_count": 109,
      "outputs": [
        {
          "output_type": "execute_result",
          "data": {
            "text/plain": [
              "0     64\n",
              "1    381\n",
              "2    749\n",
              "3    381\n",
              "4    749\n",
              "5    427\n",
              "6     64\n",
              "7    427\n",
              "Name: 1, dtype: object"
            ]
          },
          "metadata": {},
          "execution_count": 109
        }
      ]
    },
    {
      "cell_type": "code",
      "source": [
        "sent_lens = [len(sentence.split()) for sentence in train_sentences]\n",
        "avg_sent_len = np.mean(sent_lens)\n",
        "avg_sent_len"
      ],
      "metadata": {
        "colab": {
          "base_uri": "https://localhost:8080/"
        },
        "id": "--dxaq4MiM1j",
        "outputId": "e7aec650-459d-4548-94ff-a3b8681b3de8"
      },
      "execution_count": 16,
      "outputs": [
        {
          "output_type": "execute_result",
          "data": {
            "text/plain": [
              "2.1665372944746313"
            ]
          },
          "metadata": {},
          "execution_count": 16
        }
      ]
    },
    {
      "cell_type": "code",
      "source": [
        "output_seq_len = int(np.percentile(sent_lens, 98))\n",
        "output_seq_len"
      ],
      "metadata": {
        "colab": {
          "base_uri": "https://localhost:8080/"
        },
        "id": "VYUhe7Irjosm",
        "outputId": "e4ef832a-37ee-4d30-863e-ea599fb2ada2"
      },
      "execution_count": 17,
      "outputs": [
        {
          "output_type": "execute_result",
          "data": {
            "text/plain": [
              "7"
            ]
          },
          "metadata": {},
          "execution_count": 17
        }
      ]
    },
    {
      "cell_type": "code",
      "source": [
        "len(sentences)"
      ],
      "metadata": {
        "colab": {
          "base_uri": "https://localhost:8080/"
        },
        "id": "U6rPLn-tDimD",
        "outputId": "aa38cf58-6c67-4254-b8c5-cb7c04b40a63"
      },
      "execution_count": 18,
      "outputs": [
        {
          "output_type": "execute_result",
          "data": {
            "text/plain": [
              "0"
            ]
          },
          "metadata": {},
          "execution_count": 18
        }
      ]
    },
    {
      "cell_type": "code",
      "source": [
        "from tensorflow.keras.layers import TextVectorization\n",
        "\n",
        "text_vectorizer = TextVectorization(max_tokens=100000, # number of words in vocabulary\n",
        "                                    output_sequence_length=20) "
      ],
      "metadata": {
        "id": "NufhTFjvB5k6"
      },
      "execution_count": 112,
      "outputs": []
    },
    {
      "cell_type": "code",
      "source": [
        "text_vectorizer.adapt(train_sentences)"
      ],
      "metadata": {
        "id": "qKaVJ8TPj9YF"
      },
      "execution_count": 113,
      "outputs": []
    },
    {
      "cell_type": "code",
      "source": [
        "import random\n",
        "target_sentence = random.choice(train_sentences)\n",
        "print(f\"Text:\\n{target_sentence}\")\n",
        "print(f\"\\nLength of text: {len(target_sentence.split())}\")\n",
        "print(f\"\\nVectorized text:\\n{text_vectorizer([target_sentence])}\")"
      ],
      "metadata": {
        "colab": {
          "base_uri": "https://localhost:8080/"
        },
        "id": "0FwcMpXykHWz",
        "outputId": "7b32c327-77e8-4638-c40a-9360158f8b83"
      },
      "execution_count": 114,
      "outputs": [
        {
          "output_type": "stream",
          "name": "stdout",
          "text": [
            "Text:\n",
            "POSTED\n",
            "\n",
            "Length of text: 1\n",
            "\n",
            "Vectorized text:\n",
            "[[467   0   0   0   0   0   0   0   0   0   0   0   0   0   0   0   0   0\n",
            "    0   0]]\n"
          ]
        }
      ]
    },
    {
      "cell_type": "code",
      "source": [
        "text_vocab = text_vectorizer.get_vocabulary()\n",
        "print(f\"Number of words in vocabulary: {len(text_vocab)}\"), \n",
        "print(f\"Most common words in the vocabulary: {text_vocab[:5]}\")\n",
        "print(f\"Least common words in the vocabulary: {text_vocab[-5:]}\")"
      ],
      "metadata": {
        "colab": {
          "base_uri": "https://localhost:8080/"
        },
        "id": "Mrrs8ao1tRiV",
        "outputId": "3ae56835-5e46-44d8-a912-31d4ff68c688"
      },
      "execution_count": 115,
      "outputs": [
        {
          "output_type": "stream",
          "name": "stdout",
          "text": [
            "Number of words in vocabulary: 8296\n",
            "Most common words in the vocabulary: ['', '[UNK]', 'gst', 'total', '1']\n",
            "Least common words in the vocabulary: ['000000381000', '000000118927', '0000000111000395667', '0000000109000712950', '000000']\n"
          ]
        }
      ]
    },
    {
      "cell_type": "code",
      "source": [
        "text_vectorizer.get_config()"
      ],
      "metadata": {
        "colab": {
          "base_uri": "https://localhost:8080/"
        },
        "id": "jiiXrdv7t0aY",
        "outputId": "328de410-b47d-477d-8d33-6718f9d6e536"
      },
      "execution_count": 116,
      "outputs": [
        {
          "output_type": "execute_result",
          "data": {
            "text/plain": [
              "{'name': 'text_vectorization_1',\n",
              " 'trainable': True,\n",
              " 'dtype': 'string',\n",
              " 'batch_input_shape': (None,),\n",
              " 'max_tokens': 100000,\n",
              " 'standardize': 'lower_and_strip_punctuation',\n",
              " 'split': 'whitespace',\n",
              " 'ngrams': None,\n",
              " 'output_mode': 'int',\n",
              " 'output_sequence_length': 20,\n",
              " 'pad_to_max_tokens': False,\n",
              " 'sparse': False,\n",
              " 'ragged': False,\n",
              " 'vocabulary': None,\n",
              " 'idf_weights': None,\n",
              " 'encoding': 'utf-8',\n",
              " 'vocabulary_size': 8296}"
            ]
          },
          "metadata": {},
          "execution_count": 116
        }
      ]
    },
    {
      "cell_type": "code",
      "source": [
        "token_embed = layers.Embedding(input_dim=len(text_vocab), # length of vocabulary\n",
        "                               output_dim=128, # Note: different embedding sizes result in drastically different numbers of parameters to train\n",
        "                               # Use masking to handle variable sequence lengths (save space)\n",
        "                               mask_zero=True,\n",
        "                               name=\"token_embedding\") \n",
        "\n",
        "# Show example embedding\n",
        "print(f\"Sentence before vectorization:\\n{target_sentence}\\n\")\n",
        "vectorized_sentence = text_vectorizer([target_sentence])\n",
        "print(f\"Sentence after vectorization (before embedding):\\n{vectorized_sentence}\\n\")\n",
        "embedded_sentence = token_embed(vectorized_sentence)\n",
        "print(f\"Sentence after embedding:\\n{embedded_sentence}\\n\")\n",
        "print(f\"Embedded sentence shape: {embedded_sentence.shape}\")"
      ],
      "metadata": {
        "id": "wbELREtd1vex"
      },
      "execution_count": null,
      "outputs": []
    },
    {
      "cell_type": "code",
      "source": [
        "\n",
        "# What's the distribution look like?\n",
        "import matplotlib.pyplot as plt\n",
        "plt.hist(sent_lens, bins=7);"
      ],
      "metadata": {
        "colab": {
          "base_uri": "https://localhost:8080/",
          "height": 430
        },
        "id": "t-LEfFWT7SQ0",
        "outputId": "e116dce3-ed34-47d4-d67a-7df407598a85"
      },
      "execution_count": 118,
      "outputs": [
        {
          "output_type": "display_data",
          "data": {
            "text/plain": [
              "<Figure size 640x480 with 1 Axes>"
            ],
            "image/png": "[encoded data removed]"
          },
          "metadata": {}
        }
      ]
    },
    {
      "cell_type": "code",
      "source": [
        "from sklearn.preprocessing import OneHotEncoder\n",
        "one_hot_encoder = OneHotEncoder(sparse=False)\n",
        "tr_labels = np.array(train_labels)\n",
        "tr_labels= np.reshape(tr_labels, (-1,1))\n",
        "train_labels_one_hot = one_hot_encoder.fit_transform(tr_labels)\n",
        "ts_labels = np.array(test_labels)\n",
        "ts_labels= np.reshape(ts_labels, (-1,1))\n",
        "test_labels_one_hot = one_hot_encoder.fit_transform(ts_labels)\n",
        "vd_labels = np.array(valid_labels)\n",
        "vd_labels= np.reshape(vd_labels, (-1,1))\n",
        "valid_labels_one_hot = one_hot_encoder.fit_transform(vd_labels)\n",
        "\n",
        "train_labels_one_hot[:5],test_labels_one_hot[:5],valid_labels_one_hot[:5]"
      ],
      "metadata": {
        "id": "MGwVNBry7kgR"
      },
      "execution_count": null,
      "outputs": []
    },
    {
      "cell_type": "code",
      "source": [
        "train_dataset = tf.data.Dataset.from_tensor_slices((train_sentences, train_labels_one_hot))\n",
        "test_dataset = tf.data.Dataset.from_tensor_slices((test_sentences, test_labels_one_hot))\n",
        "valid_dataset = tf.data.Dataset.from_tensor_slices((valid_sentences, valid_labels_one_hot))\n",
        "# for data, label in train_dataset.take(1):\n",
        "#   print(data,label)\n",
        "train_dataset,test_dataset"
      ],
      "metadata": {
        "colab": {
          "base_uri": "https://localhost:8080/"
        },
        "id": "ldQah5eP-f7o",
        "outputId": "feb4d87e-2d6d-46a9-97bc-b99b93db8538"
      },
      "execution_count": 120,
      "outputs": [
        {
          "output_type": "execute_result",
          "data": {
            "text/plain": [
              "(<_TensorSliceDataset element_spec=(TensorSpec(shape=(), dtype=tf.string, name=None), TensorSpec(shape=(5,), dtype=tf.float64, name=None))>,\n",
              " <_TensorSliceDataset element_spec=(TensorSpec(shape=(), dtype=tf.string, name=None), TensorSpec(shape=(5,), dtype=tf.float64, name=None))>)"
            ]
          },
          "metadata": {},
          "execution_count": 120
        }
      ]
    },
    {
      "cell_type": "code",
      "source": [
        "train_dataset = train_dataset.batch(32).prefetch(tf.data.AUTOTUNE)\n",
        "test_dataset = test_dataset.batch(32).prefetch(tf.data.AUTOTUNE)\n",
        "valid_dataset = valid_dataset.batch(32).prefetch(tf.data.AUTOTUNE)\n",
        "train_dataset,test_dataset\n"
      ],
      "metadata": {
        "colab": {
          "base_uri": "https://localhost:8080/"
        },
        "id": "BGioaePc9aiN",
        "outputId": "ea4a458c-5245-4bc2-b41c-1f7b6712ce2e"
      },
      "execution_count": 121,
      "outputs": [
        {
          "output_type": "execute_result",
          "data": {
            "text/plain": [
              "(<_PrefetchDataset element_spec=(TensorSpec(shape=(None,), dtype=tf.string, name=None), TensorSpec(shape=(None, 5), dtype=tf.float64, name=None))>,\n",
              " <_PrefetchDataset element_spec=(TensorSpec(shape=(None,), dtype=tf.string, name=None), TensorSpec(shape=(None, 5), dtype=tf.float64, name=None))>)"
            ]
          },
          "metadata": {},
          "execution_count": 121
        }
      ]
    },
    {
      "cell_type": "code",
      "source": [
        "len(valid_dataset)"
      ],
      "metadata": {
        "colab": {
          "base_uri": "https://localhost:8080/"
        },
        "id": "x03RQD5jRd-H",
        "outputId": "d01a04f8-2d91-4bee-9577-f3061f8f868a"
      },
      "execution_count": 122,
      "outputs": [
        {
          "output_type": "execute_result",
          "data": {
            "text/plain": [
              "116"
            ]
          },
          "metadata": {},
          "execution_count": 122
        }
      ]
    },
    {
      "cell_type": "code",
      "source": [
        "inputs = layers.Input(shape=(1,), dtype=tf.string)\n",
        "text_vectors = text_vectorizer(inputs) # vectorize text inputs\n",
        "token_embeddings = token_embed(text_vectors) # create embedding\n",
        "x = layers.Conv1D(64, kernel_size=5, padding=\"same\", activation=\"relu\")(token_embeddings)\n",
        "x = layers.GlobalAveragePooling1D()(x) # condense the output of our feature vector\n",
        "outputs = layers.Dense(5, activation=\"softmax\")(x)\n",
        "model_1 = tf.keras.Model(inputs, outputs)\n",
        "\n",
        "# Compile\n",
        "model_1.compile(loss=\"categorical_crossentropy\", # if your labels are integer form (not one hot) use sparse_categorical_crossentropy\n",
        "                optimizer=tf.keras.optimizers.Adam(),\n",
        "                metrics=[\"accuracy\"])"
      ],
      "metadata": {
        "id": "eSR2RFOA8Eo6"
      },
      "execution_count": 125,
      "outputs": []
    },
    {
      "cell_type": "code",
      "source": [
        "model_1_history = model_1.fit(train_dataset,\n",
        "                              steps_per_epoch=int(0.1 * len(train_dataset)), # only fit on 10% of batches for faster training time\n",
        "                              epochs=15,\n",
        "                              validation_data=valid_dataset,\n",
        "                              validation_steps=int(0.1 * len(valid_dataset)))"
      ],
      "metadata": {
        "colab": {
          "base_uri": "https://localhost:8080/"
        },
        "id": "ha2506lm8cz4",
        "outputId": "661cea0a-6243-4ed4-90cb-ea9eba547316"
      },
      "execution_count": 126,
      "outputs": [
        {
          "output_type": "stream",
          "name": "stdout",
          "text": [
            "Epoch 1/15\n",
            "77/77 [==============================] - 4s 37ms/step - loss: 0.4929 - accuracy: 0.8839 - val_loss: 0.4940 - val_accuracy: 0.8608\n",
            "Epoch 2/15\n",
            "77/77 [==============================] - 2s 22ms/step - loss: 0.3176 - accuracy: 0.9217 - val_loss: 0.3912 - val_accuracy: 0.9006\n",
            "Epoch 3/15\n",
            "77/77 [==============================] - 2s 20ms/step - loss: 0.2409 - accuracy: 0.9395 - val_loss: 0.3614 - val_accuracy: 0.9091\n",
            "Epoch 4/15\n",
            "77/77 [==============================] - 2s 30ms/step - loss: 0.2336 - accuracy: 0.9330 - val_loss: 0.3429 - val_accuracy: 0.9148\n",
            "Epoch 5/15\n",
            "77/77 [==============================] - 2s 21ms/step - loss: 0.1999 - accuracy: 0.9403 - val_loss: 0.3434 - val_accuracy: 0.9148\n",
            "Epoch 6/15\n",
            "77/77 [==============================] - 2s 21ms/step - loss: 0.2131 - accuracy: 0.9424 - val_loss: 0.3441 - val_accuracy: 0.9148\n",
            "Epoch 7/15\n",
            "77/77 [==============================] - 2s 31ms/step - loss: 0.2104 - accuracy: 0.9440 - val_loss: 0.3673 - val_accuracy: 0.9148\n",
            "Epoch 8/15\n",
            "77/77 [==============================] - 3s 44ms/step - loss: 0.2034 - accuracy: 0.9472 - val_loss: 0.3414 - val_accuracy: 0.9176\n",
            "Epoch 9/15\n",
            "77/77 [==============================] - 2s 22ms/step - loss: 0.2050 - accuracy: 0.9444 - val_loss: 0.3579 - val_accuracy: 0.9148\n",
            "Epoch 10/15\n",
            "77/77 [==============================] - 2s 20ms/step - loss: 0.2080 - accuracy: 0.9448 - val_loss: 0.3216 - val_accuracy: 0.9176\n",
            "Epoch 11/15\n",
            " 1/77 [..............................] - ETA: 1s - loss: 0.0381 - accuracy: 1.0000"
          ]
        },
        {
          "output_type": "stream",
          "name": "stderr",
          "text": [
            "WARNING:tensorflow:Your input ran out of data; interrupting training. Make sure that your dataset or generator can generate at least `steps_per_epoch * epochs` batches (in this case, 1155 batches). You may need to use the repeat() function when building your dataset.\n"
          ]
        },
        {
          "output_type": "stream",
          "name": "stdout",
          "text": [
            "\b\b\b\b\b\b\b\b\b\b\b\b\b\b\b\b\b\b\b\b\b\b\b\b\b\b\b\b\b\b\b\b\b\b\b\b\b\b\b\b\b\b\b\b\b\b\b\b\b\b\b\b\b\b\b\b\b\b\b\b\b\b\b\b\b\b\b\b\b\b\b\b\b\b\b\b\b\b\b\b\b\b\r77/77 [==============================] - 0s 1ms/step - loss: 0.0381 - accuracy: 1.0000 - val_loss: 0.3219 - val_accuracy: 0.9176\n"
          ]
        }
      ]
    },
    {
      "cell_type": "code",
      "source": [
        "model_1.evaluate(test_dataset)"
      ],
      "metadata": {
        "colab": {
          "base_uri": "https://localhost:8080/"
        },
        "id": "NTqnJolhJ8nC",
        "outputId": "67c36572-fced-4a12-d5a3-f8071356a608"
      },
      "execution_count": 97,
      "outputs": [
        {
          "output_type": "stream",
          "name": "stdout",
          "text": [
            "332/332 [==============================] - 2s 5ms/step - loss: 0.2048 - accuracy: 0.9482\n"
          ]
        },
        {
          "output_type": "execute_result",
          "data": {
            "text/plain": [
              "[0.20480220019817352, 0.9481523633003235]"
            ]
          },
          "metadata": {},
          "execution_count": 97
        }
      ]
    },
    {
      "cell_type": "code",
      "source": [
        "model_1_pred_probs = model_1.predict(test_dataset)\n"
      ],
      "metadata": {
        "colab": {
          "base_uri": "https://localhost:8080/"
        },
        "id": "Ztp0t7wrKUgH",
        "outputId": "8e750f46-c8c8-4afc-c16b-dd7878713652"
      },
      "execution_count": 98,
      "outputs": [
        {
          "output_type": "stream",
          "name": "stdout",
          "text": [
            "332/332 [==============================] - 2s 5ms/step\n"
          ]
        }
      ]
    },
    {
      "cell_type": "code",
      "source": [
        "from sklearn.preprocessing import LabelEncoder\n",
        "label_encoder = LabelEncoder()\n",
        "test_labels_encoded = label_encoder.fit_transform(test_labels)\n",
        "test_labels_encoded[:10]"
      ],
      "metadata": {
        "colab": {
          "base_uri": "https://localhost:8080/"
        },
        "id": "nNkx2y4wOO3w",
        "outputId": "ad81d3de-8e8a-41c8-bc97-8b4dbcf30525"
      },
      "execution_count": 99,
      "outputs": [
        {
          "output_type": "execute_result",
          "data": {
            "text/plain": [
              "array([0, 1, 0, 2, 3, 0, 0, 0, 0, 0])"
            ]
          },
          "metadata": {},
          "execution_count": 99
        }
      ]
    },
    {
      "cell_type": "code",
      "source": [
        "model_1_pred_probs[:5],test_labels[:5]"
      ],
      "metadata": {
        "colab": {
          "base_uri": "https://localhost:8080/"
        },
        "id": "jj5d-ilrK-76",
        "outputId": "9612d160-2b06-4443-f484-c4b9f4653aac"
      },
      "execution_count": 100,
      "outputs": [
        {
          "output_type": "execute_result",
          "data": {
            "text/plain": [
              "(array([[9.98371005e-01, 1.74056295e-05, 2.53395498e-04, 1.44076839e-04,\n",
              "         1.21410447e-03],\n",
              "        [1.19510808e-11, 9.99645710e-01, 1.82696080e-04, 1.70954052e-04,\n",
              "         6.46212357e-07],\n",
              "        [9.97879446e-01, 2.33597239e-05, 2.35624888e-04, 1.79295675e-04,\n",
              "         1.68229954e-03],\n",
              "        [1.62378892e-01, 4.76179644e-03, 7.66274810e-01, 3.47464606e-02,\n",
              "         3.18379775e-02],\n",
              "        [2.82237045e-02, 7.34520927e-02, 1.21406905e-01, 6.86719596e-01,\n",
              "         9.01976898e-02]], dtype=float32),\n",
              " [0, 1, 0, 2, 3])"
            ]
          },
          "metadata": {},
          "execution_count": 100
        }
      ]
    },
    {
      "cell_type": "code",
      "source": [
        "model_1_pred=tf.argmax(model_1_pred_probs, axis=1)\n"
      ],
      "metadata": {
        "id": "vXpKK4U-LgyT"
      },
      "execution_count": 101,
      "outputs": []
    },
    {
      "cell_type": "code",
      "source": [
        "from helper_functions import precision_recall_fscore_support\n",
        "model_results = calculate_results(y_true=test_labels_encoded,\n",
        "                                    y_pred=model_1_pred)\n",
        "# model_precision, model_recall, model_f1, _ = precision_recall_fscore_support(y_true=test_labels_one_hot, y_pred=model_1_pred, average=\"weighted\")\n",
        "\n",
        "model_results"
      ],
      "metadata": {
        "colab": {
          "base_uri": "https://localhost:8080/"
        },
        "id": "o8EDKSWTMAbL",
        "outputId": "2e0f7c17-1b61-4c0e-cb91-04a7fe3e891c"
      },
      "execution_count": 102,
      "outputs": [
        {
          "output_type": "stream",
          "name": "stderr",
          "text": [
            "/usr/local/lib/python3.9/dist-packages/sklearn/metrics/_classification.py:1344: UndefinedMetricWarning: Precision and F-score are ill-defined and being set to 0.0 in labels with no predicted samples. Use `zero_division` parameter to control this behavior.\n",
            "  _warn_prf(average, modifier, msg_start, len(result))\n"
          ]
        },
        {
          "output_type": "execute_result",
          "data": {
            "text/plain": [
              "{'accuracy': 94.81523378582202,\n",
              " 'precision': 0.9264524329460301,\n",
              " 'recall': 0.9481523378582202,\n",
              " 'f1': 0.9351652302457854}"
            ]
          },
          "metadata": {},
          "execution_count": 102
        }
      ]
    }
  ]
}