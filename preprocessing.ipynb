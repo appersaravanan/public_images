{
  "nbformat": 4,
  "nbformat_minor": 0,
  "metadata": {
    "colab": {
      "provenance": [],
      "authorship_tag": "ABX9TyMHv1noR2DKZeahOtdGLqdY",
      "include_colab_link": true
    },
    "kernelspec": {
      "name": "python3",
      "display_name": "Python 3"
    },
    "language_info": {
      "name": "python"
    }
  },
  "cells": [
    {
      "cell_type": "markdown",
      "metadata": {
        "id": "view-in-github",
        "colab_type": "text"
      },
      "source": [
        "<a href=\"https://colab.research.google.com/github/appersaravanan/public_images/blob/main/preprocessing.ipynb\" target=\"_parent\"><img src=\"https://colab.research.google.com/assets/colab-badge.svg\" alt=\"Open In Colab\"/></a>"
      ]
    },
    {
      "cell_type": "code",
      "execution_count": 1,
      "metadata": {
        "id": "H96x_3K6SfkF"
      },
      "outputs": [],
      "source": [
        "import os\n",
        "from collections import defaultdict\n",
        "import math\n",
        "import networkx as nx\n",
        "import random\n",
        "from tqdm import tqdm\n",
        "from zipfile import ZipFile\n",
        "from urllib.request import urlretrieve\n",
        "import numpy as np\n",
        "import pandas as pd\n",
        "import tensorflow as tf\n",
        "from tensorflow import keras\n",
        "from tensorflow.keras import layers\n",
        "import matplotlib.pyplot as plt\n",
        "import gzip as gzip_lib\n",
        "import numpy as np\n",
        "import os\n",
        "import pprint\n",
        "import shutil\n",
        "import tempfile\n",
        "import urllib\n",
        "import uuid"
      ]
    },
    {
      "cell_type": "code",
      "source": [
        "!git clone https://github.com/appersaravanan/public_images.git"
      ],
      "metadata": {
        "colab": {
          "base_uri": "https://localhost:8080/"
        },
        "id": "PhSDl6ZbSnAk",
        "outputId": "1b8bc565-d542-48f6-edd1-eba34e985be5"
      },
      "execution_count": 2,
      "outputs": [
        {
          "output_type": "stream",
          "name": "stdout",
          "text": [
            "Cloning into 'public_images'...\n",
            "remote: Enumerating objects: 2608, done.\u001b[K\n",
            "remote: Counting objects: 100% (52/52), done.\u001b[K\n",
            "remote: Compressing objects: 100% (38/38), done.\u001b[K\n",
            "remote: Total 2608 (delta 16), reused 40 (delta 11), pack-reused 2556\u001b[K\n",
            "Receiving objects: 100% (2608/2608), 284.32 MiB | 25.35 MiB/s, done.\n",
            "Resolving deltas: 100% (80/80), done.\n",
            "Updating files: 100% (5051/5051), done.\n"
          ]
        }
      ]
    },
    {
      "cell_type": "code",
      "source": [
        "!wget https://raw.githubusercontent.com/mrdbourke/tensorflow-deep-learning/main/extras/helper_functions.py"
      ],
      "metadata": {
        "colab": {
          "base_uri": "https://localhost:8080/"
        },
        "id": "mHEtbkdnLwcx",
        "outputId": "0ac3eb6f-7dc3-44e3-9754-64795b0f7338"
      },
      "execution_count": 44,
      "outputs": [
        {
          "output_type": "stream",
          "name": "stdout",
          "text": [
            "--2023-04-03 12:54:39--  https://raw.githubusercontent.com/mrdbourke/tensorflow-deep-learning/main/extras/helper_functions.py\n",
            "Resolving raw.githubusercontent.com (raw.githubusercontent.com)... 185.199.108.133, 185.199.111.133, 185.199.110.133, ...\n",
            "Connecting to raw.githubusercontent.com (raw.githubusercontent.com)|185.199.108.133|:443... connected.\n",
            "HTTP request sent, awaiting response... 200 OK\n",
            "Length: 10246 (10K) [text/plain]\n",
            "Saving to: ‘helper_functions.py’\n",
            "\n",
            "helper_functions.py 100%[===================>]  10.01K  --.-KB/s    in 0s      \n",
            "\n",
            "2023-04-03 12:54:40 (72.1 MB/s) - ‘helper_functions.py’ saved [10246/10246]\n",
            "\n"
          ]
        }
      ]
    },
    {
      "cell_type": "code",
      "source": [
        "!mv  /content/public_images/interim/ /content/sample_data/bills_file/"
      ],
      "metadata": {
        "id": "NoD12Vko0plP"
      },
      "execution_count": 4,
      "outputs": []
    },
    {
      "cell_type": "code",
      "source": [
        "#movies = pd.read_csv(\"/content/public_images/interim/000.csv\",on_bad_lines='skip')\n",
        "base_path=\"/content/sample_data/bills_file/\"\n",
        "filenames= os.listdir(base_path)\n",
        "len(filenames)"
      ],
      "metadata": {
        "colab": {
          "base_uri": "https://localhost:8080/"
        },
        "id": "qca14y6ZlZc5",
        "outputId": "2116f166-cbd7-4f52-dd3f-aa8dc83578fa"
      },
      "execution_count": 65,
      "outputs": [
        {
          "output_type": "execute_result",
          "data": {
            "text/plain": [
              "626"
            ]
          },
          "metadata": {},
          "execution_count": 65
        }
      ]
    },
    {
      "cell_type": "code",
      "source": [
        "len(filenames)\n",
        "labels=[]\n",
        "sentences=[]\n",
        "bb=[]\n",
        "train_sentences=[]\n",
        "train_bb=[]\n",
        "train_labels=[]\n",
        "test_sentences=[];\n",
        "test_bb=[]\n",
        "test_labels=[];\n",
        "valid_sentences=[];\n",
        "valid_bb=[];\n",
        "valid_labels=[];\n",
        "def get_train_test_data():\n",
        " \n",
        " \n",
        " \n",
        "  for filename in filenames :\n",
        "    if int(filename.split(\".\")[0]) >550:  \n",
        "      sentences= valid_sentences;  \n",
        "      labels=valid_labels;\n",
        "      bb=valid_bb\n",
        "      \n",
        "    elif int(filename.split(\".\")[0]) > 100: \n",
        "      sentences= train_sentences;   \n",
        "      labels=train_labels;\n",
        "      bb=train_bb\n",
        "    else:\n",
        "      sentences=test_sentences;\n",
        "      labels=test_labels;\n",
        "      bb=test_bb;\n",
        "    \n",
        "    path=\"{}{}\".format(base_path,filename)\n",
        "    df=pd.read_csv(path,on_bad_lines='skip')\n",
        "    for i in range(len(df)):   \n",
        "      sentences.append(df.iloc[i, 8])\n",
        "      bb.append([df.iloc[i,0],df.iloc[i,1],df.iloc[i,2],df.iloc[i,3],df.iloc[i,4],df.iloc[i,5],df.iloc[i,6],df.iloc[i,7]])\n",
        "      label=df.iloc[i, 9]\n",
        "      if pd.isna(label):\n",
        "        labels.append(0)\n",
        "      elif label==\"company\":\n",
        "        labels.append(0)\n",
        "      elif label==\"address\":\n",
        "        labels.append(1)\n",
        "      elif label==\"invoice\":\n",
        "        labels.append(2)\n",
        "      elif label==\"date\":\n",
        "        labels.append(3)\n",
        "      elif label==\"total \" or  label==\"total\":\n",
        "        labels.append(4 )\n",
        "      else:\n",
        "        print(label)\n",
        "      \n",
        "\n",
        "\n"
      ],
      "metadata": {
        "id": "CCR5fblfEv58"
      },
      "execution_count": 158,
      "outputs": []
    },
    {
      "cell_type": "code",
      "source": [
        "get_train_test_data()\n"
      ],
      "metadata": {
        "colab": {
          "base_uri": "https://localhost:8080/"
        },
        "id": "tyanPq9csmKE",
        "outputId": "c8ce658a-8721-4676-8655-a1239385b737"
      },
      "execution_count": 159,
      "outputs": [
        {
          "output_type": "execute_result",
          "data": {
            "text/plain": [
              "(['POPULAR BOOK', 'CO. (M) SDN BHD'],\n",
              " [0, 0],\n",
              " [[189, 280, 710, 280, 710, 322, 189, 322],\n",
              "  [139, 330, 806, 330, 806, 372, 139, 372]])"
            ]
          },
          "metadata": {},
          "execution_count": 159
        }
      ]
    },
    {
      "cell_type": "code",
      "source": [
        "lastIndex=2\n",
        "((train_sentences[:lastIndex], train_labels[:lastIndex],train_bb[:lastIndex]),\n",
        "(test_sentences[:lastIndex], test_labels[:lastIndex], test_bb[:lastIndex]),\n",
        "(valid_sentences[:lastIndex],valid_labels[:lastIndex],valid_bb[:lastIndex]))"
      ],
      "metadata": {
        "colab": {
          "base_uri": "https://localhost:8080/"
        },
        "id": "RO-pNW6ap1h9",
        "outputId": "08f7a0c8-2eac-499c-cb68-b88fee933031"
      },
      "execution_count": 165,
      "outputs": [
        {
          "output_type": "execute_result",
          "data": {
            "text/plain": [
              "((['SIMPLIFIED TAX INVOICE', 'SIN THYE & COMPANY'],\n",
              "  [0, 0],\n",
              "  [[71, 292, 734, 292, 734, 346, 71, 346],\n",
              "   [64, 381, 749, 381, 749, 427, 64, 427]]),\n",
              " (['TRIPLE SIX POINT ENTERPRISE 666',\n",
              "   'NO 14& 16 JALAN PERMAS 4/3 BANDAR BARU PERMAS JAY'],\n",
              "  [0, 1],\n",
              "  [[401, 445, 641, 445, 641, 464, 401, 464],\n",
              "   [343, 466, 692, 466, 692, 483, 343, 483]]),\n",
              " (['POPULAR BOOK', 'CO. (M) SDN BHD'],\n",
              "  [0, 0],\n",
              "  [[189, 280, 710, 280, 710, 322, 189, 322],\n",
              "   [139, 330, 806, 330, 806, 372, 139, 372]]))"
            ]
          },
          "metadata": {},
          "execution_count": 165
        }
      ]
    },
    {
      "cell_type": "code",
      "source": [
        "train_bb[1]"
      ],
      "metadata": {
        "colab": {
          "base_uri": "https://localhost:8080/"
        },
        "id": "muzBhOIsXiBX",
        "outputId": "525dcb53-a41f-402e-a885-bd34aa378c79"
      },
      "execution_count": 166,
      "outputs": [
        {
          "output_type": "execute_result",
          "data": {
            "text/plain": [
              "[64, 381, 749, 381, 749, 427, 64, 427]"
            ]
          },
          "metadata": {},
          "execution_count": 166
        }
      ]
    },
    {
      "cell_type": "code",
      "source": [
        "sent_lens = [len(sentence.split()) for sentence in train_sentences]\n",
        "avg_sent_len = np.mean(sent_lens)\n",
        "avg_sent_len"
      ],
      "metadata": {
        "colab": {
          "base_uri": "https://localhost:8080/"
        },
        "id": "--dxaq4MiM1j",
        "outputId": "6b5d2db1-d3b1-47f2-c3bf-5d0c5f628969"
      },
      "execution_count": 167,
      "outputs": [
        {
          "output_type": "execute_result",
          "data": {
            "text/plain": [
              "2.183628767289985"
            ]
          },
          "metadata": {},
          "execution_count": 167
        }
      ]
    },
    {
      "cell_type": "code",
      "source": [
        "valid_sent_lens = [len(sentence.split()) for sentence in valid_sentences]\n",
        "avg_sent_len = np.mean(valid_sent_lens)\n",
        "avg_sent_len"
      ],
      "metadata": {
        "colab": {
          "base_uri": "https://localhost:8080/"
        },
        "id": "Lxi6QbxCqX8X",
        "outputId": "35678c1f-600e-4998-8363-75999d05dd70"
      },
      "execution_count": 179,
      "outputs": [
        {
          "output_type": "execute_result",
          "data": {
            "text/plain": [
              "2.052317701274058"
            ]
          },
          "metadata": {},
          "execution_count": 179
        }
      ]
    },
    {
      "cell_type": "code",
      "source": [
        "output_seq_len = int(np.percentile(sent_lens, 98))\n",
        "output_seq_len"
      ],
      "metadata": {
        "colab": {
          "base_uri": "https://localhost:8080/"
        },
        "id": "VYUhe7Irjosm",
        "outputId": "975d2fa2-c6e6-4708-bd2b-a3e5c45aa983"
      },
      "execution_count": 168,
      "outputs": [
        {
          "output_type": "execute_result",
          "data": {
            "text/plain": [
              "7"
            ]
          },
          "metadata": {},
          "execution_count": 168
        }
      ]
    },
    {
      "cell_type": "code",
      "source": [
        "len(sentences)"
      ],
      "metadata": {
        "colab": {
          "base_uri": "https://localhost:8080/"
        },
        "id": "U6rPLn-tDimD",
        "outputId": "09d62393-0e2c-4af5-ffce-6069d6065e3a"
      },
      "execution_count": 169,
      "outputs": [
        {
          "output_type": "execute_result",
          "data": {
            "text/plain": [
              "0"
            ]
          },
          "metadata": {},
          "execution_count": 169
        }
      ]
    },
    {
      "cell_type": "code",
      "source": [
        "from tensorflow.keras.layers import TextVectorization\n",
        "\n",
        "text_vectorizer = TextVectorization(max_tokens=100000, # number of words in vocabulary\n",
        "                                    output_sequence_length=20) "
      ],
      "metadata": {
        "id": "NufhTFjvB5k6"
      },
      "execution_count": 170,
      "outputs": []
    },
    {
      "cell_type": "code",
      "source": [
        "text_vectorizer.adapt(train_sentences)"
      ],
      "metadata": {
        "id": "qKaVJ8TPj9YF"
      },
      "execution_count": 171,
      "outputs": []
    },
    {
      "cell_type": "code",
      "source": [
        "import random\n",
        "target_sentence = random.choice(train_sentences)\n",
        "print(f\"Text:\\n{target_sentence}\")\n",
        "print(f\"\\nLength of text: {len(target_sentence.split())}\")\n",
        "print(f\"\\nVectorized text:\\n{text_vectorizer([target_sentence])}\")"
      ],
      "metadata": {
        "colab": {
          "base_uri": "https://localhost:8080/"
        },
        "id": "0FwcMpXykHWz",
        "outputId": "d8c633fa-5ee6-4565-9334-28f430cb6848"
      },
      "execution_count": 173,
      "outputs": [
        {
          "output_type": "stream",
          "name": "stdout",
          "text": [
            "Text:\n",
            "1.60\n",
            "\n",
            "Length of text: 1\n",
            "\n",
            "Vectorized text:\n",
            "[[363   0   0   0   0   0   0   0   0   0   0   0   0   0   0   0   0   0\n",
            "    0   0]]\n"
          ]
        }
      ]
    },
    {
      "cell_type": "code",
      "source": [
        "text_vocab = text_vectorizer.get_vocabulary()\n",
        "print(f\"Number of words in vocabulary: {len(text_vocab)}\"), \n",
        "print(f\"Most common words in the vocabulary: {text_vocab[:10]}\")\n",
        "print(f\"Least common words in the vocabulary: {text_vocab[-5:]}\")"
      ],
      "metadata": {
        "colab": {
          "base_uri": "https://localhost:8080/"
        },
        "id": "Mrrs8ao1tRiV",
        "outputId": "eadc06d1-b522-4eef-edf7-58773e614662"
      },
      "execution_count": 175,
      "outputs": [
        {
          "output_type": "stream",
          "name": "stdout",
          "text": [
            "Number of words in vocabulary: 8296\n",
            "Most common words in the vocabulary: ['', '[UNK]', 'gst', 'total', '1', 'no', 'tax', '6', 'sr', '0']\n",
            "Least common words in the vocabulary: ['000000381000', '000000118927', '0000000111000395667', '0000000109000712950', '000000']\n"
          ]
        }
      ]
    },
    {
      "cell_type": "code",
      "source": [
        "text_vectorizer.get_config()"
      ],
      "metadata": {
        "colab": {
          "base_uri": "https://localhost:8080/"
        },
        "id": "jiiXrdv7t0aY",
        "outputId": "d69be8a8-bf76-443e-b1ac-2fc8995a4599"
      },
      "execution_count": 176,
      "outputs": [
        {
          "output_type": "execute_result",
          "data": {
            "text/plain": [
              "{'name': 'text_vectorization_2',\n",
              " 'trainable': True,\n",
              " 'dtype': 'string',\n",
              " 'batch_input_shape': (None,),\n",
              " 'max_tokens': 100000,\n",
              " 'standardize': 'lower_and_strip_punctuation',\n",
              " 'split': 'whitespace',\n",
              " 'ngrams': None,\n",
              " 'output_mode': 'int',\n",
              " 'output_sequence_length': 20,\n",
              " 'pad_to_max_tokens': False,\n",
              " 'sparse': False,\n",
              " 'ragged': False,\n",
              " 'vocabulary': None,\n",
              " 'idf_weights': None,\n",
              " 'encoding': 'utf-8',\n",
              " 'vocabulary_size': 8296}"
            ]
          },
          "metadata": {},
          "execution_count": 176
        }
      ]
    },
    {
      "cell_type": "code",
      "source": [
        "token_embed = layers.Embedding(input_dim=len(text_vocab), # length of vocabulary\n",
        "                               output_dim=128, # Note: different embedding sizes result in drastically different numbers of parameters to train\n",
        "                               # Use masking to handle variable sequence lengths (save space)\n",
        "                               mask_zero=True,\n",
        "                               name=\"token_embedding\") \n",
        "\n",
        "# Show example embedding\n",
        "print(f\"Sentence before vectorization:\\n{target_sentence}\\n\")\n",
        "vectorized_sentence = text_vectorizer([target_sentence])\n",
        "print(f\"Sentence after vectorization (before embedding):\\n{vectorized_sentence}\\n\")\n",
        "embedded_sentence = token_embed(vectorized_sentence)\n",
        "print(f\"Sentence after embedding:\\n{embedded_sentence}\\n\")\n",
        "print(f\"Embedded sentence shape: {embedded_sentence.shape}\")"
      ],
      "metadata": {
        "colab": {
          "base_uri": "https://localhost:8080/"
        },
        "id": "wbELREtd1vex",
        "outputId": "dd898fae-663e-4c7c-a1e7-e824c375a29a"
      },
      "execution_count": 177,
      "outputs": [
        {
          "output_type": "stream",
          "name": "stdout",
          "text": [
            "Sentence before vectorization:\n",
            "1.60\n",
            "\n",
            "Sentence after vectorization (before embedding):\n",
            "[[363   0   0   0   0   0   0   0   0   0   0   0   0   0   0   0   0   0\n",
            "    0   0]]\n",
            "\n",
            "Sentence after embedding:\n",
            "[[[ 0.01134775 -0.04297924  0.01053953 ...  0.01016102 -0.01147174\n",
            "    0.02374394]\n",
            "  [ 0.02997399 -0.04049723 -0.02441344 ... -0.04911509 -0.03720372\n",
            "   -0.02163513]\n",
            "  [ 0.02997399 -0.04049723 -0.02441344 ... -0.04911509 -0.03720372\n",
            "   -0.02163513]\n",
            "  ...\n",
            "  [ 0.02997399 -0.04049723 -0.02441344 ... -0.04911509 -0.03720372\n",
            "   -0.02163513]\n",
            "  [ 0.02997399 -0.04049723 -0.02441344 ... -0.04911509 -0.03720372\n",
            "   -0.02163513]\n",
            "  [ 0.02997399 -0.04049723 -0.02441344 ... -0.04911509 -0.03720372\n",
            "   -0.02163513]]]\n",
            "\n",
            "Embedded sentence shape: (1, 20, 128)\n"
          ]
        }
      ]
    },
    {
      "cell_type": "code",
      "source": [
        "\n",
        "# What's the distribution look like?\n",
        "import matplotlib.pyplot as plt\n",
        "plt.hist(sent_lens, bins=7);"
      ],
      "metadata": {
        "colab": {
          "base_uri": "https://localhost:8080/",
          "height": 430
        },
        "id": "t-LEfFWT7SQ0",
        "outputId": "cbf860d6-f881-4a6a-b9c1-3c70489c69ca"
      },
      "execution_count": 178,
      "outputs": [
        {
          "output_type": "display_data",
          "data": {
            "text/plain": [
              "<Figure size 640x480 with 1 Axes>"
            ],
            "image/png": "[encoded data removed]"
          },
          "metadata": {}
        }
      ]
    },
    {
      "cell_type": "code",
      "source": [
        "from sklearn.preprocessing import OneHotEncoder\n",
        "one_hot_encoder = OneHotEncoder(sparse=False)\n",
        "tr_labels = np.array(train_labels)\n",
        "tr_labels= np.reshape(tr_labels, (-1,1))\n",
        "train_labels_one_hot = one_hot_encoder.fit_transform(tr_labels)\n",
        "ts_labels = np.array(test_labels)\n",
        "ts_labels= np.reshape(ts_labels, (-1,1))\n",
        "test_labels_one_hot = one_hot_encoder.fit_transform(ts_labels)\n",
        "vd_labels = np.array(valid_labels)\n",
        "vd_labels= np.reshape(vd_labels, (-1,1))\n",
        "valid_labels_one_hot = one_hot_encoder.fit_transform(vd_labels)\n",
        "\n",
        "train_labels_one_hot[:5],test_labels_one_hot[:5],valid_labels_one_hot[:5]"
      ],
      "metadata": {
        "colab": {
          "base_uri": "https://localhost:8080/"
        },
        "id": "MGwVNBry7kgR",
        "outputId": "4c729b57-e29b-4260-c0bc-97aa90595597"
      },
      "execution_count": 180,
      "outputs": [
        {
          "output_type": "stream",
          "name": "stderr",
          "text": [
            "/usr/local/lib/python3.9/dist-packages/sklearn/preprocessing/_encoders.py:868: FutureWarning: `sparse` was renamed to `sparse_output` in version 1.2 and will be removed in 1.4. `sparse_output` is ignored unless you leave `sparse` to its default value.\n",
            "  warnings.warn(\n",
            "/usr/local/lib/python3.9/dist-packages/sklearn/preprocessing/_encoders.py:868: FutureWarning: `sparse` was renamed to `sparse_output` in version 1.2 and will be removed in 1.4. `sparse_output` is ignored unless you leave `sparse` to its default value.\n",
            "  warnings.warn(\n",
            "/usr/local/lib/python3.9/dist-packages/sklearn/preprocessing/_encoders.py:868: FutureWarning: `sparse` was renamed to `sparse_output` in version 1.2 and will be removed in 1.4. `sparse_output` is ignored unless you leave `sparse` to its default value.\n",
            "  warnings.warn(\n"
          ]
        },
        {
          "output_type": "execute_result",
          "data": {
            "text/plain": [
              "(array([[1., 0., 0., 0., 0.],\n",
              "        [1., 0., 0., 0., 0.],\n",
              "        [1., 0., 0., 0., 0.],\n",
              "        [1., 0., 0., 0., 0.],\n",
              "        [0., 1., 0., 0., 0.]]),\n",
              " array([[1., 0., 0., 0., 0.],\n",
              "        [0., 1., 0., 0., 0.],\n",
              "        [1., 0., 0., 0., 0.],\n",
              "        [0., 0., 1., 0., 0.],\n",
              "        [0., 0., 0., 1., 0.]]),\n",
              " array([[1., 0., 0., 0., 0.],\n",
              "        [1., 0., 0., 0., 0.],\n",
              "        [1., 0., 0., 0., 0.],\n",
              "        [0., 1., 0., 0., 0.],\n",
              "        [0., 1., 0., 0., 0.]]))"
            ]
          },
          "metadata": {},
          "execution_count": 180
        }
      ]
    },
    {
      "cell_type": "code",
      "source": [
        "train_dataset = tf.data.Dataset.from_tensor_slices((train_sentences, train_labels_one_hot))\n",
        "train_bb_dataset = tf.data.Dataset.from_tensor_slices((train_bb, train_labels_one_hot))\n",
        "\n",
        "test_dataset = tf.data.Dataset.from_tensor_slices((test_sentences, test_labels_one_hot))\n",
        "test_bb_dataset =tf.data.Dataset.from_tensor_slices((test_bb, test_labels_one_hot))\n",
        "\n",
        "valid_dataset = tf.data.Dataset.from_tensor_slices((valid_sentences, valid_labels_one_hot))\n",
        "valid_bb_dataset= tf.data.Dataset.from_tensor_slices((valid_bb, valid_labels_one_hot))\n",
        "\n",
        "\n",
        "\n",
        "# for data, label in train_dataset.take(1):\n",
        "#   print(data,label)\n",
        "train_dataset,test_dataset"
      ],
      "metadata": {
        "colab": {
          "base_uri": "https://localhost:8080/"
        },
        "id": "ldQah5eP-f7o",
        "outputId": "27be1eee-a042-4c95-d910-aa5988f36463"
      },
      "execution_count": 181,
      "outputs": [
        {
          "output_type": "execute_result",
          "data": {
            "text/plain": [
              "(<_TensorSliceDataset element_spec=(TensorSpec(shape=(), dtype=tf.string, name=None), TensorSpec(shape=(5,), dtype=tf.float64, name=None))>,\n",
              " <_TensorSliceDataset element_spec=(TensorSpec(shape=(), dtype=tf.string, name=None), TensorSpec(shape=(5,), dtype=tf.float64, name=None))>)"
            ]
          },
          "metadata": {},
          "execution_count": 181
        }
      ]
    },
    {
      "cell_type": "code",
      "source": [
        "train_dataset = train_dataset.batch(32).prefetch(tf.data.AUTOTUNE)\n",
        "train_bb_dataset = train_bb_dataset.batch(32).prefetch(tf.data.AUTOTUNE)\n",
        "\n",
        "test_dataset = test_dataset.batch(32).prefetch(tf.data.AUTOTUNE)\n",
        "test_bb_dataset = test_bb_dataset.batch(32).prefetch(tf.data.AUTOTUNE)\n",
        "\n",
        "valid_dataset = valid_dataset.batch(32).prefetch(tf.data.AUTOTUNE)\n",
        "valid_bb_dataset = valid_bb_dataset.batch(32).prefetch(tf.data.AUTOTUNE)\n",
        "train_dataset,test_dataset\n"
      ],
      "metadata": {
        "colab": {
          "base_uri": "https://localhost:8080/"
        },
        "id": "BGioaePc9aiN",
        "outputId": "6676cbb6-578d-4c36-c214-7f6122e1636d"
      },
      "execution_count": 182,
      "outputs": [
        {
          "output_type": "execute_result",
          "data": {
            "text/plain": [
              "(<_PrefetchDataset element_spec=(TensorSpec(shape=(None,), dtype=tf.string, name=None), TensorSpec(shape=(None, 5), dtype=tf.float64, name=None))>,\n",
              " <_PrefetchDataset element_spec=(TensorSpec(shape=(None,), dtype=tf.string, name=None), TensorSpec(shape=(None, 5), dtype=tf.float64, name=None))>)"
            ]
          },
          "metadata": {},
          "execution_count": 182
        }
      ]
    },
    {
      "cell_type": "code",
      "source": [
        "len(valid_dataset)"
      ],
      "metadata": {
        "colab": {
          "base_uri": "https://localhost:8080/"
        },
        "id": "x03RQD5jRd-H",
        "outputId": "0fab85ff-2f92-4f3c-cffa-c57d67e48002"
      },
      "execution_count": 183,
      "outputs": [
        {
          "output_type": "execute_result",
          "data": {
            "text/plain": [
              "116"
            ]
          },
          "metadata": {},
          "execution_count": 183
        }
      ]
    },
    {
      "cell_type": "code",
      "source": [
        "def create_nlp_model(exclude_output_layer=False):\n",
        "  inputs = layers.Input(shape=(1,), dtype=tf.string)\n",
        "  text_vectors = text_vectorizer(inputs) # vectorize text inputs\n",
        "  token_embeddings = token_embed(text_vectors) # create embedding\n",
        "  x = layers.Conv1D(64, kernel_size=5, padding=\"same\", activation=\"relu\")(token_embeddings)\n",
        "  x = layers.GlobalAveragePooling1D()(x) # condense the output of our feature vector\n",
        "  if exclude_output_layer==False:\n",
        "    outputs = layers.Dense(5, activation=\"softmax\")(x)\n",
        "  else:\n",
        "    outputs=x;\n",
        "  return tf.keras.Model(inputs, outputs)\n",
        "\n",
        "\n",
        "# Compile\n"
      ],
      "metadata": {
        "id": "eSR2RFOA8Eo6"
      },
      "execution_count": 230,
      "outputs": []
    },
    {
      "cell_type": "code",
      "source": [
        "model_1=create_nlp_model()\n",
        "model_1.compile(loss=\"categorical_crossentropy\", # if your labels are integer form (not one hot) use sparse_categorical_crossentropy\n",
        "                optimizer=tf.keras.optimizers.Adam(),\n",
        "                metrics=[\"accuracy\"])"
      ],
      "metadata": {
        "id": "qp0z8Nxtwg9Z"
      },
      "execution_count": null,
      "outputs": []
    },
    {
      "cell_type": "code",
      "source": [
        "model_1_history = model_1.fit(train_dataset,\n",
        "                              steps_per_epoch=int(0.1 * len(train_dataset)), # only fit on 10% of batches for faster training time\n",
        "                              epochs=15,\n",
        "                              validation_data=valid_dataset,\n",
        "                              validation_steps=int(0.1 * len(valid_dataset)))"
      ],
      "metadata": {
        "colab": {
          "base_uri": "https://localhost:8080/"
        },
        "id": "ha2506lm8cz4",
        "outputId": "90ad43b0-fb2d-4f2c-e941-032335ba5a0e"
      },
      "execution_count": 185,
      "outputs": [
        {
          "output_type": "stream",
          "name": "stdout",
          "text": [
            "Epoch 1/15\n",
            "77/77 [==============================] - 3s 30ms/step - loss: 0.6014 - accuracy: 0.8835 - val_loss: 0.5950 - val_accuracy: 0.8551\n",
            "Epoch 2/15\n",
            "77/77 [==============================] - 2s 31ms/step - loss: 0.4349 - accuracy: 0.8933 - val_loss: 0.5045 - val_accuracy: 0.8636\n",
            "Epoch 3/15\n",
            "77/77 [==============================] - 3s 39ms/step - loss: 0.3158 - accuracy: 0.9253 - val_loss: 0.4007 - val_accuracy: 0.8977\n",
            "Epoch 4/15\n",
            "77/77 [==============================] - 3s 42ms/step - loss: 0.2907 - accuracy: 0.9302 - val_loss: 0.3713 - val_accuracy: 0.9091\n",
            "Epoch 5/15\n",
            "77/77 [==============================] - 2s 31ms/step - loss: 0.2449 - accuracy: 0.9375 - val_loss: 0.3614 - val_accuracy: 0.9091\n",
            "Epoch 6/15\n",
            "77/77 [==============================] - 2s 30ms/step - loss: 0.2257 - accuracy: 0.9428 - val_loss: 0.3594 - val_accuracy: 0.9119\n",
            "Epoch 7/15\n",
            "77/77 [==============================] - 3s 36ms/step - loss: 0.2200 - accuracy: 0.9432 - val_loss: 0.3635 - val_accuracy: 0.9119\n",
            "Epoch 8/15\n",
            "77/77 [==============================] - 4s 49ms/step - loss: 0.2095 - accuracy: 0.9444 - val_loss: 0.3521 - val_accuracy: 0.9119\n",
            "Epoch 9/15\n",
            "77/77 [==============================] - 3s 39ms/step - loss: 0.2102 - accuracy: 0.9432 - val_loss: 0.3522 - val_accuracy: 0.9148\n",
            "Epoch 10/15\n",
            "77/77 [==============================] - 2s 31ms/step - loss: 0.2068 - accuracy: 0.9444 - val_loss: 0.3191 - val_accuracy: 0.9148\n",
            "Epoch 11/15\n",
            " 1/77 [..............................] - ETA: 3s - loss: 0.0387 - accuracy: 1.0000"
          ]
        },
        {
          "output_type": "stream",
          "name": "stderr",
          "text": [
            "WARNING:tensorflow:Your input ran out of data; interrupting training. Make sure that your dataset or generator can generate at least `steps_per_epoch * epochs` batches (in this case, 1155 batches). You may need to use the repeat() function when building your dataset.\n"
          ]
        },
        {
          "output_type": "stream",
          "name": "stdout",
          "text": [
            "\b\b\b\b\b\b\b\b\b\b\b\b\b\b\b\b\b\b\b\b\b\b\b\b\b\b\b\b\b\b\b\b\b\b\b\b\b\b\b\b\b\b\b\b\b\b\b\b\b\b\b\b\b\b\b\b\b\b\b\b\b\b\b\b\b\b\b\b\b\b\b\b\b\b\b\b\b\b\b\b\b\b\r77/77 [==============================] - 0s 1ms/step - loss: 0.0387 - accuracy: 1.0000 - val_loss: 0.3199 - val_accuracy: 0.9148\n"
          ]
        }
      ]
    },
    {
      "cell_type": "code",
      "source": [
        "model_1.evaluate(test_dataset)"
      ],
      "metadata": {
        "colab": {
          "base_uri": "https://localhost:8080/"
        },
        "id": "NTqnJolhJ8nC",
        "outputId": "5b0148d4-7fad-4a29-ecb4-25e30da4cde3"
      },
      "execution_count": 186,
      "outputs": [
        {
          "output_type": "stream",
          "name": "stdout",
          "text": [
            "166/166 [==============================] - 1s 5ms/step - loss: 0.2190 - accuracy: 0.9461\n"
          ]
        },
        {
          "output_type": "execute_result",
          "data": {
            "text/plain": [
              "[0.21898885071277618, 0.9460784196853638]"
            ]
          },
          "metadata": {},
          "execution_count": 186
        }
      ]
    },
    {
      "cell_type": "code",
      "source": [
        "model_1_pred_probs = model_1.predict(test_dataset)\n"
      ],
      "metadata": {
        "colab": {
          "base_uri": "https://localhost:8080/"
        },
        "id": "Ztp0t7wrKUgH",
        "outputId": "7e85251e-e946-446e-a90c-366499a142f4"
      },
      "execution_count": 187,
      "outputs": [
        {
          "output_type": "stream",
          "name": "stdout",
          "text": [
            "166/166 [==============================] - 1s 5ms/step\n"
          ]
        }
      ]
    },
    {
      "cell_type": "code",
      "source": [
        "from sklearn.preprocessing import LabelEncoder\n",
        "label_encoder = LabelEncoder()\n",
        "test_labels_encoded = label_encoder.fit_transform(test_labels)\n",
        "test_labels_encoded[:10]"
      ],
      "metadata": {
        "colab": {
          "base_uri": "https://localhost:8080/"
        },
        "id": "nNkx2y4wOO3w",
        "outputId": "610ebde9-a775-4a0f-ca06-fc5c79c0123a"
      },
      "execution_count": 188,
      "outputs": [
        {
          "output_type": "execute_result",
          "data": {
            "text/plain": [
              "array([0, 1, 0, 2, 3, 0, 0, 0, 0, 0])"
            ]
          },
          "metadata": {},
          "execution_count": 188
        }
      ]
    },
    {
      "cell_type": "code",
      "source": [
        "model_1_pred_probs[:5],test_labels[:5]"
      ],
      "metadata": {
        "colab": {
          "base_uri": "https://localhost:8080/"
        },
        "id": "jj5d-ilrK-76",
        "outputId": "ac909426-fd10-4cba-c3dc-fb589c4baa36"
      },
      "execution_count": 189,
      "outputs": [
        {
          "output_type": "execute_result",
          "data": {
            "text/plain": [
              "(array([[9.7911114e-01, 5.8799854e-04, 5.9426511e-03, 4.6514007e-03,\n",
              "         9.7068548e-03],\n",
              "        [2.3827743e-10, 9.9924088e-01, 5.8025285e-04, 1.7891556e-04,\n",
              "         2.9905305e-08],\n",
              "        [9.8851299e-01, 1.7407147e-04, 2.1698859e-03, 1.9069192e-03,\n",
              "         7.2361785e-03],\n",
              "        [8.6079672e-02, 2.2146478e-01, 5.5059463e-01, 1.1583913e-01,\n",
              "         2.6021708e-02],\n",
              "        [7.0420511e-02, 3.2640517e-01, 1.8796556e-01, 3.7861606e-01,\n",
              "         3.6592752e-02]], dtype=float32),\n",
              " [0, 1, 0, 2, 3])"
            ]
          },
          "metadata": {},
          "execution_count": 189
        }
      ]
    },
    {
      "cell_type": "code",
      "source": [
        "model_1_pred=tf.argmax(model_1_pred_probs, axis=1)\n"
      ],
      "metadata": {
        "id": "vXpKK4U-LgyT"
      },
      "execution_count": 190,
      "outputs": []
    },
    {
      "cell_type": "code",
      "source": [
        "from helper_functions import precision_recall_fscore_support\n",
        "model_results = calculate_results(y_true=test_labels_encoded,\n",
        "                                    y_pred=model_1_pred)\n",
        "# model_precision, model_recall, model_f1, _ = precision_recall_fscore_support(y_true=test_labels_one_hot, y_pred=model_1_pred, average=\"weighted\")\n",
        "\n",
        "model_results"
      ],
      "metadata": {
        "colab": {
          "base_uri": "https://localhost:8080/"
        },
        "id": "o8EDKSWTMAbL",
        "outputId": "8488be3c-cbb7-4afe-caa7-d87ba5363fdd"
      },
      "execution_count": 191,
      "outputs": [
        {
          "output_type": "stream",
          "name": "stderr",
          "text": [
            "/usr/local/lib/python3.9/dist-packages/sklearn/metrics/_classification.py:1344: UndefinedMetricWarning: Precision and F-score are ill-defined and being set to 0.0 in labels with no predicted samples. Use `zero_division` parameter to control this behavior.\n",
            "  _warn_prf(average, modifier, msg_start, len(result))\n"
          ]
        },
        {
          "output_type": "execute_result",
          "data": {
            "text/plain": [
              "{'accuracy': 94.6078431372549,\n",
              " 'precision': 0.9237723794628034,\n",
              " 'recall': 0.946078431372549,\n",
              " 'f1': 0.9318021104379863}"
            ]
          },
          "metadata": {},
          "execution_count": 191
        }
      ]
    },
    {
      "cell_type": "code",
      "source": [
        "def create_bounding_box_model(exclude_output_layer=False):\n",
        "  bb_input= layers.Input(shape=(8,), dtype=tf.int32, name=\"bounding boxes\")\n",
        "  #x = layers.Lambda(lambda x: tf.expand_dims(x, axis=1))(bb_input)\n",
        "  x = layers.Dense(32, activation=\"relu\")(bb_input)#(x)\n",
        "  x = layers.Dropout(.2)(x)\n",
        "  x = layers.Dense(32, activation=\"relu\")(x)\n",
        "  x = layers.Dropout(.2)(x)\n",
        "  # x = layers.Lambda(lambda x: tf.expand_dims(x, axis=1))(bb_input) \n",
        "  # x = layers.LSTM(128, activation=\"relu\", return_sequences=True)(x)\n",
        "  # x = layers.LSTM(128, activation=\"relu\")(x)\n",
        "  if exclude_output_layer==False:\n",
        "    outputs = layers.Dense(5, activation=\"softmax\")(x)\n",
        "  else:\n",
        "    outputs=x;\n",
        "  return  tf.keras.Model(inputs=bb_input,\n",
        "                                    outputs=x)\n",
        "\n"
      ],
      "metadata": {
        "id": "CAyhFurmdu_Y"
      },
      "execution_count": 231,
      "outputs": []
    },
    {
      "cell_type": "code",
      "source": [
        "bb_model = create_bounding_box_model()\n",
        "bb_model.compile(loss=\"categorical_crossentropy\", \n",
        "                optimizer=tf.keras.optimizers.Adam(),\n",
        "                metrics=[\"accuracy\"])\n",
        "bb_model.summary()\n"
      ],
      "metadata": {
        "id": "5vCumXJGxFND"
      },
      "execution_count": null,
      "outputs": []
    },
    {
      "cell_type": "code",
      "source": [
        "steps_per_epoch= int(0.1 * len(train_bb_dataset))-len(train_bb_dataset)%10\n",
        "validation_steps=int(0.4 * len(valid_bb_dataset)) -len(valid_bb_dataset)%10\n",
        "steps_per_epoch,validation_steps"
      ],
      "metadata": {
        "colab": {
          "base_uri": "https://localhost:8080/"
        },
        "id": "Kr7T6u3enWKm",
        "outputId": "28734bed-eff7-4a67-fb35-5a0a10083dc4"
      },
      "execution_count": 224,
      "outputs": [
        {
          "output_type": "execute_result",
          "data": {
            "text/plain": [
              "(76, 40)"
            ]
          },
          "metadata": {},
          "execution_count": 224
        }
      ]
    },
    {
      "cell_type": "code",
      "source": [
        "bb_history = bb_model.fit(train_bb_dataset,\n",
        "                              steps_per_epoch=steps_per_epoch, # only fit on 10% of batches for faster training time\n",
        "                              epochs=20,\n",
        "                              validation_data=valid_bb_dataset,\n",
        "                              validation_steps=validation_steps)"
      ],
      "metadata": {
        "colab": {
          "base_uri": "https://localhost:8080/"
        },
        "id": "2af7LcxYkhcL",
        "outputId": "489377eb-66e2-4d1e-dfbc-2486ee59f33a"
      },
      "execution_count": 226,
      "outputs": [
        {
          "output_type": "stream",
          "name": "stdout",
          "text": [
            "Epoch 1/20\n",
            "76/76 [==============================] - 2s 31ms/step - loss: 0.6863 - accuracy: 0.8894 - val_loss: 0.5942 - val_accuracy: 0.8687\n",
            "Epoch 2/20\n",
            "76/76 [==============================] - 1s 7ms/step - loss: 0.6954 - accuracy: 0.8923 - val_loss: 0.5881 - val_accuracy: 0.8687\n",
            "Epoch 3/20\n",
            "76/76 [==============================] - 0s 6ms/step - loss: 0.6135 - accuracy: 0.8972 - val_loss: 0.5730 - val_accuracy: 0.8687\n",
            "Epoch 4/20\n",
            "76/76 [==============================] - 0s 3ms/step - loss: 0.7057 - accuracy: 0.8877 - val_loss: 0.5710 - val_accuracy: 0.8687\n",
            "Epoch 5/20\n",
            "76/76 [==============================] - 0s 3ms/step - loss: 0.7024 - accuracy: 0.8972 - val_loss: 0.5679 - val_accuracy: 0.8687\n",
            "Epoch 6/20\n",
            "76/76 [==============================] - 0s 5ms/step - loss: 0.5708 - accuracy: 0.9042 - val_loss: 0.5666 - val_accuracy: 0.8687\n",
            "Epoch 7/20\n",
            "76/76 [==============================] - 0s 4ms/step - loss: 0.6738 - accuracy: 0.9013 - val_loss: 0.5611 - val_accuracy: 0.8687\n",
            "Epoch 8/20\n",
            "76/76 [==============================] - 0s 4ms/step - loss: 0.6372 - accuracy: 0.8927 - val_loss: 0.5524 - val_accuracy: 0.8687\n",
            "Epoch 9/20\n",
            "76/76 [==============================] - 0s 3ms/step - loss: 0.6981 - accuracy: 0.8865 - val_loss: 0.5459 - val_accuracy: 0.8687\n",
            "Epoch 10/20\n",
            "76/76 [==============================] - 0s 3ms/step - loss: 0.6221 - accuracy: 0.8853 - val_loss: 0.5539 - val_accuracy: 0.8687\n",
            "Epoch 11/20\n",
            " 1/76 [..............................] - ETA: 0s - loss: 0.6011 - accuracy: 0.8438"
          ]
        },
        {
          "output_type": "stream",
          "name": "stderr",
          "text": [
            "WARNING:tensorflow:Your input ran out of data; interrupting training. Make sure that your dataset or generator can generate at least `steps_per_epoch * epochs` batches (in this case, 1520 batches). You may need to use the repeat() function when building your dataset.\n"
          ]
        },
        {
          "output_type": "stream",
          "name": "stdout",
          "text": [
            "\b\b\b\b\b\b\b\b\b\b\b\b\b\b\b\b\b\b\b\b\b\b\b\b\b\b\b\b\b\b\b\b\b\b\b\b\b\b\b\b\b\b\b\b\b\b\b\b\b\b\b\b\b\b\b\b\b\b\b\b\b\b\b\b\b\b\b\b\b\b\b\b\b\b\b\b\b\b\b\b\b\b\r76/76 [==============================] - 0s 2ms/step - loss: 0.5432 - accuracy: 0.8799 - val_loss: 0.5548 - val_accuracy: 0.8687\n"
          ]
        }
      ]
    },
    {
      "cell_type": "code",
      "source": [
        "nlp_model, bb_model=create_nlp_model(exclude_output_layer=True),create_bounding_box_model(exclude_output_layer=True)\n",
        "combined_embeddings = layers.Concatenate(name=\"nlp_bb_comibined\")([nlp_model.output, \n",
        "                                                                              bb_model.output])\n",
        "x = layers.Dense(256, activation=\"relu\")(combined_embeddings)\n",
        "x = layers.Dropout(0.2)(x)\n",
        "output = layers.Dense(5, activation=\"softmax\")(x)\n",
        "\n",
        "final_model = tf.keras.Model(inputs=[nlp_model.input, bb_model.input],outputs=output)\n",
        "final_model.summary()"
      ],
      "metadata": {
        "colab": {
          "base_uri": "https://localhost:8080/"
        },
        "id": "C3R4tB0RxTsz",
        "outputId": "567ac8b9-fe95-42bf-a38f-7ad124877e54"
      },
      "execution_count": 233,
      "outputs": [
        {
          "output_type": "stream",
          "name": "stdout",
          "text": [
            "Model: \"model_32\"\n",
            "__________________________________________________________________________________________________\n",
            " Layer (type)                   Output Shape         Param #     Connected to                     \n",
            "==================================================================================================\n",
            " input_11 (InputLayer)          [(None, 1)]          0           []                               \n",
            "                                                                                                  \n",
            " bounding boxes (InputLayer)    [(None, 8)]          0           []                               \n",
            "                                                                                                  \n",
            " text_vectorization_2 (TextVect  (None, 20)          0           ['input_11[0][0]']               \n",
            " orization)                                                                                       \n",
            "                                                                                                  \n",
            " dense_62 (Dense)               (None, 32)           288         ['bounding boxes[0][0]']         \n",
            "                                                                                                  \n",
            " token_embedding (Embedding)    (None, 20, 128)      1061888     ['text_vectorization_2[2][0]']   \n",
            "                                                                                                  \n",
            " dropout_28 (Dropout)           (None, 32)           0           ['dense_62[0][0]']               \n",
            "                                                                                                  \n",
            " conv1d_10 (Conv1D)             (None, 20, 64)       41024       ['token_embedding[2][0]']        \n",
            "                                                                                                  \n",
            " dense_63 (Dense)               (None, 32)           1056        ['dropout_28[0][0]']             \n",
            "                                                                                                  \n",
            " global_average_pooling1d_10 (G  (None, 64)          0           ['conv1d_10[0][0]']              \n",
            " lobalAveragePooling1D)                                                                           \n",
            "                                                                                                  \n",
            " dropout_29 (Dropout)           (None, 32)           0           ['dense_63[0][0]']               \n",
            "                                                                                                  \n",
            " nlp_bb_comibined (Concatenate)  (None, 96)          0           ['global_average_pooling1d_10[0][\n",
            "                                                                 0]',                             \n",
            "                                                                  'dropout_29[0][0]']             \n",
            "                                                                                                  \n",
            " dense_64 (Dense)               (None, 256)          24832       ['nlp_bb_comibined[0][0]']       \n",
            "                                                                                                  \n",
            " dropout_30 (Dropout)           (None, 256)          0           ['dense_64[0][0]']               \n",
            "                                                                                                  \n",
            " dense_65 (Dense)               (None, 5)            1285        ['dropout_30[0][0]']             \n",
            "                                                                                                  \n",
            "==================================================================================================\n",
            "Total params: 1,130,373\n",
            "Trainable params: 1,130,373\n",
            "Non-trainable params: 0\n",
            "__________________________________________________________________________________________________\n"
          ]
        }
      ]
    },
    {
      "cell_type": "code",
      "source": [
        "final_model.compile(loss=\"categorical_crossentropy\", \n",
        "                optimizer=tf.keras.optimizers.Adam(),\n",
        "                metrics=[\"accuracy\"])"
      ],
      "metadata": {
        "id": "23lFqlutznl9"
      },
      "execution_count": 234,
      "outputs": []
    },
    {
      "cell_type": "code",
      "source": [
        "from tensorflow.keras.utils import plot_model\n",
        "plot_model(final_model)"
      ],
      "metadata": {
        "id": "lOMuP8RHzuNi"
      },
      "execution_count": null,
      "outputs": []
    },
    {
      "cell_type": "code",
      "source": [
        "train_sent_bb_tensor = tf.data.Dataset.from_tensor_slices((train_sentences,train_bb)) \n",
        "train_labels_one_hot_tensor= tf.data.Dataset.from_tensor_slices(train_labels_one_hot) \n",
        "train_sent_bb_dataset = tf.data.Dataset.zip((train_sent_bb_tensor, train_labels_one_hot_tensor)) \n",
        "train_sent_bb_dataset = train_sent_bb_dataset.batch(32).prefetch(tf.data.AUTOTUNE) "
      ],
      "metadata": {
        "id": "HzmByZEN0rpB"
      },
      "execution_count": 236,
      "outputs": []
    },
    {
      "cell_type": "code",
      "source": [
        "valid_sent_bb_tensor = tf.data.Dataset.from_tensor_slices((valid_sentences,valid_bb)) \n",
        "valid_labels_one_hot_tensor = tf.data.Dataset.from_tensor_slices(valid_labels_one_hot) \n",
        "valid_sent_bb_dataset = tf.data.Dataset.zip((valid_sent_bb_tensor, valid_labels_one_hot_tensor)) \n",
        "valid_sent_bb_dataset = valid_sent_bb_dataset.batch(32).prefetch(tf.data.AUTOTUNE) "
      ],
      "metadata": {
        "id": "rViXwHZd1l0c"
      },
      "execution_count": null,
      "outputs": []
    },
    {
      "cell_type": "code",
      "source": [
        "history_model_5 = model_5.fit(train_pos_char_token_dataset,\n",
        "                              steps_per_epoch=int(0.1 * len(train_pos_char_token_dataset)),\n",
        "                              epochs=3,\n",
        "                              validation_data=val_pos_char_token_dataset,\n",
        "                              validation_steps=int(0.1 * len(val_pos_char_token_dataset)))"
      ],
      "metadata": {
        "id": "Z_FTMByf2Wr8"
      },
      "execution_count": null,
      "outputs": []
    }
  ]
}