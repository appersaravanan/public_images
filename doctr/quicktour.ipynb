{
  "nbformat": 4,
  "nbformat_minor": 0,
  "metadata": {
    "colab": {
      "name": "docTR - Quick start.ipynb",
      "provenance": []
    },
    "kernelspec": {
      "name": "python3",
      "display_name": "Python 3"
    },
    "language_info": {
      "name": "python"
    }
  },
  "cells": [
    {
      "cell_type": "markdown",
      "metadata": {
        "id": "OOb64_drQ8HZ"
      },
      "source": [
        "Looking for some examples on how to use docTR for OCR-related tasks? You've come to the right place 😀"
      ]
    },
    {
      "cell_type": "markdown",
      "metadata": {
        "id": "0eiwDT8qIh4X"
      },
      "source": [
        "# Installation\n",
        "\n",
        "Install all the dependencies to make the most out of docTR. The project provides two main [installation](https://mindee.github.io/doctr/latest/installing.html) streams: one for stable release (update once every 45 days on average), and developer mode."
      ]
    },
    {
      "cell_type": "markdown",
      "metadata": {
        "id": "Bh8uHvOVIvFW"
      },
      "source": [
        "## Latest stable release\n",
        "\n",
        "This will install the last stable release that was published by our teams on pypi. It is expected to provide a clean and non-buggy experience for all users."
      ]
    },
    {
      "cell_type": "code",
      "metadata": {
        "id": "43tpfKq1IxQg",
        "colab": {
          "base_uri": "https://localhost:8080/",
          "height": 1000
        },
        "outputId": "43c92df9-d2ce-481a-a8a1-6518a9076e3d"
      },
      "source": [
        "# TensorFlow\n",
        "!pip install python-doctr[tf]\n",
        "# PyTorch\n",
        "#!pip install python-doctr[torch]"
      ],
      "execution_count": 2,
      "outputs": [
        {
          "output_type": "stream",
          "name": "stdout",
          "text": [
            "Looking in indexes: https://pypi.org/simple, https://us-python.pkg.dev/colab-wheels/public/simple/\n",
            "Collecting python-doctr[tf]\n",
            "  Downloading python_doctr-0.6.0-py3-none-any.whl (239 kB)\n",
            "\u001b[2K     \u001b[90m━━━━━━━━━━━━━━━━━━━━━━━━━━━━━━━━━━━━━━━\u001b[0m \u001b[32m239.3/239.3 KB\u001b[0m \u001b[31m7.7 MB/s\u001b[0m eta \u001b[36m0:00:00\u001b[0m\n",
            "\u001b[?25hRequirement already satisfied: scipy<2.0.0,>=1.4.0 in /usr/local/lib/python3.9/dist-packages (from python-doctr[tf]) (1.10.1)\n",
            "Requirement already satisfied: h5py<4.0.0,>=3.1.0 in /usr/local/lib/python3.9/dist-packages (from python-doctr[tf]) (3.8.0)\n",
            "Collecting pypdfium2<4.0.0,>=3.0.0\n",
            "  Downloading pypdfium2-3.21.1-py3-none-manylinux_2_17_x86_64.manylinux2014_x86_64.whl (2.8 MB)\n",
            "\u001b[2K     \u001b[90m━━━━━━━━━━━━━━━━━━━━━━━━━━━━━━━━━━━━━━━━\u001b[0m \u001b[32m2.8/2.8 MB\u001b[0m \u001b[31m58.5 MB/s\u001b[0m eta \u001b[36m0:00:00\u001b[0m\n",
            "\u001b[?25hCollecting pyclipper<2.0.0,>=1.2.0\n",
            "  Downloading pyclipper-1.3.0.post4-cp39-cp39-manylinux_2_5_x86_64.manylinux1_x86_64.whl (608 kB)\n",
            "\u001b[2K     \u001b[90m━━━━━━━━━━━━━━━━━━━━━━━━━━━━━━━━━━━━━━\u001b[0m \u001b[32m608.2/608.2 KB\u001b[0m \u001b[31m28.6 MB/s\u001b[0m eta \u001b[36m0:00:00\u001b[0m\n",
            "\u001b[?25hCollecting weasyprint>=55.0\n",
            "  Downloading weasyprint-58.1-py3-none-any.whl (265 kB)\n",
            "\u001b[2K     \u001b[90m━━━━━━━━━━━━━━━━━━━━━━━━━━━━━━━━━━━━━━\u001b[0m \u001b[32m265.6/265.6 KB\u001b[0m \u001b[31m17.4 MB/s\u001b[0m eta \u001b[36m0:00:00\u001b[0m\n",
            "\u001b[?25hRequirement already satisfied: Pillow>=8.3.2 in /usr/local/lib/python3.9/dist-packages (from python-doctr[tf]) (8.4.0)\n",
            "Collecting mplcursors>=0.3\n",
            "  Downloading mplcursors-0.5.2.tar.gz (89 kB)\n",
            "\u001b[2K     \u001b[90m━━━━━━━━━━━━━━━━━━━━━━━━━━━━━━━━━━━━━━━━\u001b[0m \u001b[32m89.0/89.0 KB\u001b[0m \u001b[31m7.6 MB/s\u001b[0m eta \u001b[36m0:00:00\u001b[0m\n",
            "\u001b[?25h  Preparing metadata (setup.py) ... \u001b[?25l\u001b[?25hdone\n",
            "Requirement already satisfied: matplotlib>=3.1.0 in /usr/local/lib/python3.9/dist-packages (from python-doctr[tf]) (3.7.1)\n",
            "Collecting rapidfuzz>=1.6.0\n",
            "  Downloading rapidfuzz-2.13.7-cp39-cp39-manylinux_2_17_x86_64.manylinux2014_x86_64.whl (2.2 MB)\n",
            "\u001b[2K     \u001b[90m━━━━━━━━━━━━━━━━━━━━━━━━━━━━━━━━━━━━━━━━\u001b[0m \u001b[32m2.2/2.2 MB\u001b[0m \u001b[31m12.0 MB/s\u001b[0m eta \u001b[36m0:00:00\u001b[0m\n",
            "\u001b[?25hCollecting huggingface-hub>=0.4.0\n",
            "  Downloading huggingface_hub-0.13.3-py3-none-any.whl (199 kB)\n",
            "\u001b[2K     \u001b[90m━━━━━━━━━━━━━━━━━━━━━━━━━━━━━━━━━━━━━━\u001b[0m \u001b[32m199.8/199.8 KB\u001b[0m \u001b[31m14.9 MB/s\u001b[0m eta \u001b[36m0:00:00\u001b[0m\n",
            "\u001b[?25hRequirement already satisfied: opencv-python<5.0.0,>=4.5.0 in /usr/local/lib/python3.9/dist-packages (from python-doctr[tf]) (4.7.0.72)\n",
            "Requirement already satisfied: importlib-metadata in /usr/local/lib/python3.9/dist-packages (from python-doctr[tf]) (6.1.0)\n",
            "Collecting langdetect<2.0.0,>=1.0.9\n",
            "  Downloading langdetect-1.0.9.tar.gz (981 kB)\n",
            "\u001b[2K     \u001b[90m━━━━━━━━━━━━━━━━━━━━━━━━━━━━━━━━━━━━━━\u001b[0m \u001b[32m981.5/981.5 KB\u001b[0m \u001b[31m49.7 MB/s\u001b[0m eta \u001b[36m0:00:00\u001b[0m\n",
            "\u001b[?25h  Preparing metadata (setup.py) ... \u001b[?25l\u001b[?25hdone\n",
            "Requirement already satisfied: defusedxml>=0.7.0 in /usr/local/lib/python3.9/dist-packages (from python-doctr[tf]) (0.7.1)\n",
            "Collecting shapely<2.0.0,>=1.6.0\n",
            "  Downloading Shapely-1.8.5.post1-cp39-cp39-manylinux_2_12_x86_64.manylinux2010_x86_64.whl (2.1 MB)\n",
            "\u001b[2K     \u001b[90m━━━━━━━━━━━━━━━━━━━━━━━━━━━━━━━━━━━━━━━━\u001b[0m \u001b[32m2.1/2.1 MB\u001b[0m \u001b[31m55.7 MB/s\u001b[0m eta \u001b[36m0:00:00\u001b[0m\n",
            "\u001b[?25hRequirement already satisfied: tqdm>=4.30.0 in /usr/local/lib/python3.9/dist-packages (from python-doctr[tf]) (4.65.0)\n",
            "Requirement already satisfied: numpy<2.0.0,>=1.16.0 in /usr/local/lib/python3.9/dist-packages (from python-doctr[tf]) (1.22.4)\n",
            "Collecting unidecode>=1.0.0\n",
            "  Downloading Unidecode-1.3.6-py3-none-any.whl (235 kB)\n",
            "\u001b[2K     \u001b[90m━━━━━━━━━━━━━━━━━━━━━━━━━━━━━━━━━━━━━━\u001b[0m \u001b[32m235.9/235.9 KB\u001b[0m \u001b[31m16.8 MB/s\u001b[0m eta \u001b[36m0:00:00\u001b[0m\n",
            "\u001b[?25hCollecting tf2onnx>=1.9.2\n",
            "  Downloading tf2onnx-1.13.0-py3-none-any.whl (442 kB)\n",
            "\u001b[2K     \u001b[90m━━━━━━━━━━━━━━━━━━━━━━━━━━━━━━━━━━━━━━\u001b[0m \u001b[32m442.3/442.3 KB\u001b[0m \u001b[31m44.5 MB/s\u001b[0m eta \u001b[36m0:00:00\u001b[0m\n",
            "\u001b[?25hCollecting tensorflow-addons>=0.17.1\n",
            "  Downloading tensorflow_addons-0.19.0-cp39-cp39-manylinux_2_17_x86_64.manylinux2014_x86_64.whl (1.1 MB)\n",
            "\u001b[2K     \u001b[90m━━━━━━━━━━━━━━━━━━━━━━━━━━━━━━━━━━━━━━━━\u001b[0m \u001b[32m1.1/1.1 MB\u001b[0m \u001b[31m67.8 MB/s\u001b[0m eta \u001b[36m0:00:00\u001b[0m\n",
            "\u001b[?25hRequirement already satisfied: tensorflow<3.0.0,>=2.9.0 in /usr/local/lib/python3.9/dist-packages (from python-doctr[tf]) (2.11.0)\n",
            "Requirement already satisfied: typing-extensions>=3.7.4.3 in /usr/local/lib/python3.9/dist-packages (from huggingface-hub>=0.4.0->python-doctr[tf]) (4.5.0)\n",
            "Requirement already satisfied: pyyaml>=5.1 in /usr/local/lib/python3.9/dist-packages (from huggingface-hub>=0.4.0->python-doctr[tf]) (6.0)\n",
            "Requirement already satisfied: packaging>=20.9 in /usr/local/lib/python3.9/dist-packages (from huggingface-hub>=0.4.0->python-doctr[tf]) (23.0)\n",
            "Requirement already satisfied: requests in /usr/local/lib/python3.9/dist-packages (from huggingface-hub>=0.4.0->python-doctr[tf]) (2.27.1)\n",
            "Requirement already satisfied: filelock in /usr/local/lib/python3.9/dist-packages (from huggingface-hub>=0.4.0->python-doctr[tf]) (3.10.0)\n",
            "Requirement already satisfied: six in /usr/local/lib/python3.9/dist-packages (from langdetect<2.0.0,>=1.0.9->python-doctr[tf]) (1.16.0)\n",
            "Requirement already satisfied: pyparsing>=2.3.1 in /usr/local/lib/python3.9/dist-packages (from matplotlib>=3.1.0->python-doctr[tf]) (3.0.9)\n",
            "Requirement already satisfied: fonttools>=4.22.0 in /usr/local/lib/python3.9/dist-packages (from matplotlib>=3.1.0->python-doctr[tf]) (4.39.2)\n",
            "Requirement already satisfied: contourpy>=1.0.1 in /usr/local/lib/python3.9/dist-packages (from matplotlib>=3.1.0->python-doctr[tf]) (1.0.7)\n",
            "Requirement already satisfied: importlib-resources>=3.2.0 in /usr/local/lib/python3.9/dist-packages (from matplotlib>=3.1.0->python-doctr[tf]) (5.12.0)\n",
            "Requirement already satisfied: kiwisolver>=1.0.1 in /usr/local/lib/python3.9/dist-packages (from matplotlib>=3.1.0->python-doctr[tf]) (1.4.4)\n",
            "Requirement already satisfied: python-dateutil>=2.7 in /usr/local/lib/python3.9/dist-packages (from matplotlib>=3.1.0->python-doctr[tf]) (2.8.2)\n",
            "Requirement already satisfied: cycler>=0.10 in /usr/local/lib/python3.9/dist-packages (from matplotlib>=3.1.0->python-doctr[tf]) (0.11.0)\n",
            "Requirement already satisfied: tensorflow-estimator<2.12,>=2.11.0 in /usr/local/lib/python3.9/dist-packages (from tensorflow<3.0.0,>=2.9.0->python-doctr[tf]) (2.11.0)\n",
            "Requirement already satisfied: flatbuffers>=2.0 in /usr/local/lib/python3.9/dist-packages (from tensorflow<3.0.0,>=2.9.0->python-doctr[tf]) (23.3.3)\n",
            "Requirement already satisfied: setuptools in /usr/local/lib/python3.9/dist-packages (from tensorflow<3.0.0,>=2.9.0->python-doctr[tf]) (67.6.0)\n",
            "Requirement already satisfied: libclang>=13.0.0 in /usr/local/lib/python3.9/dist-packages (from tensorflow<3.0.0,>=2.9.0->python-doctr[tf]) (15.0.6.1)\n",
            "Requirement already satisfied: wrapt>=1.11.0 in /usr/local/lib/python3.9/dist-packages (from tensorflow<3.0.0,>=2.9.0->python-doctr[tf]) (1.15.0)\n",
            "Requirement already satisfied: tensorflow-io-gcs-filesystem>=0.23.1 in /usr/local/lib/python3.9/dist-packages (from tensorflow<3.0.0,>=2.9.0->python-doctr[tf]) (0.31.0)\n",
            "Requirement already satisfied: protobuf<3.20,>=3.9.2 in /usr/local/lib/python3.9/dist-packages (from tensorflow<3.0.0,>=2.9.0->python-doctr[tf]) (3.19.6)\n",
            "Requirement already satisfied: grpcio<2.0,>=1.24.3 in /usr/local/lib/python3.9/dist-packages (from tensorflow<3.0.0,>=2.9.0->python-doctr[tf]) (1.51.3)\n",
            "Requirement already satisfied: absl-py>=1.0.0 in /usr/local/lib/python3.9/dist-packages (from tensorflow<3.0.0,>=2.9.0->python-doctr[tf]) (1.4.0)\n",
            "Requirement already satisfied: opt-einsum>=2.3.2 in /usr/local/lib/python3.9/dist-packages (from tensorflow<3.0.0,>=2.9.0->python-doctr[tf]) (3.3.0)\n",
            "Requirement already satisfied: google-pasta>=0.1.1 in /usr/local/lib/python3.9/dist-packages (from tensorflow<3.0.0,>=2.9.0->python-doctr[tf]) (0.2.0)\n",
            "Requirement already satisfied: gast<=0.4.0,>=0.2.1 in /usr/local/lib/python3.9/dist-packages (from tensorflow<3.0.0,>=2.9.0->python-doctr[tf]) (0.4.0)\n",
            "Requirement already satisfied: termcolor>=1.1.0 in /usr/local/lib/python3.9/dist-packages (from tensorflow<3.0.0,>=2.9.0->python-doctr[tf]) (2.2.0)\n",
            "Requirement already satisfied: keras<2.12,>=2.11.0 in /usr/local/lib/python3.9/dist-packages (from tensorflow<3.0.0,>=2.9.0->python-doctr[tf]) (2.11.0)\n",
            "Requirement already satisfied: tensorboard<2.12,>=2.11 in /usr/local/lib/python3.9/dist-packages (from tensorflow<3.0.0,>=2.9.0->python-doctr[tf]) (2.11.2)\n",
            "Requirement already satisfied: astunparse>=1.6.0 in /usr/local/lib/python3.9/dist-packages (from tensorflow<3.0.0,>=2.9.0->python-doctr[tf]) (1.6.3)\n",
            "Collecting typeguard>=2.7\n",
            "  Downloading typeguard-3.0.2-py3-none-any.whl (30 kB)\n",
            "Collecting flatbuffers>=2.0\n",
            "  Downloading flatbuffers-2.0.7-py2.py3-none-any.whl (26 kB)\n",
            "Collecting onnx>=1.4.1\n",
            "  Downloading onnx-1.13.1-cp39-cp39-manylinux_2_17_x86_64.manylinux2014_x86_64.whl (13.5 MB)\n",
            "\u001b[2K     \u001b[90m━━━━━━━━━━━━━━━━━━━━━━━━━━━━━━━━━━━━━━━━\u001b[0m \u001b[32m13.5/13.5 MB\u001b[0m \u001b[31m78.4 MB/s\u001b[0m eta \u001b[36m0:00:00\u001b[0m\n",
            "\u001b[?25hCollecting cssselect2>=0.1\n",
            "  Downloading cssselect2-0.7.0-py3-none-any.whl (15 kB)\n",
            "Requirement already satisfied: cffi>=0.6 in /usr/local/lib/python3.9/dist-packages (from weasyprint>=55.0->python-doctr[tf]) (1.15.1)\n",
            "Collecting Pillow>=8.3.2\n",
            "  Downloading Pillow-9.4.0-cp39-cp39-manylinux_2_28_x86_64.whl (3.4 MB)\n",
            "\u001b[2K     \u001b[90m━━━━━━━━━━━━━━━━━━━━━━━━━━━━━━━━━━━━━━━━\u001b[0m \u001b[32m3.4/3.4 MB\u001b[0m \u001b[31m44.5 MB/s\u001b[0m eta \u001b[36m0:00:00\u001b[0m\n",
            "\u001b[?25hCollecting Pyphen>=0.9.1\n",
            "  Downloading pyphen-0.14.0-py3-none-any.whl (2.0 MB)\n",
            "\u001b[2K     \u001b[90m━━━━━━━━━━━━━━━━━━━━━━━━━━━━━━━━━━━━━━━━\u001b[0m \u001b[32m2.0/2.0 MB\u001b[0m \u001b[31m103.3 MB/s\u001b[0m eta \u001b[36m0:00:00\u001b[0m\n",
            "\u001b[?25hRequirement already satisfied: html5lib>=1.1 in /usr/local/lib/python3.9/dist-packages (from weasyprint>=55.0->python-doctr[tf]) (1.1)\n",
            "Collecting pydyf>=0.5.0\n",
            "  Downloading pydyf-0.5.0-py3-none-any.whl (6.8 kB)\n",
            "Requirement already satisfied: tinycss2>=1.0.0 in /usr/local/lib/python3.9/dist-packages (from weasyprint>=55.0->python-doctr[tf]) (1.2.1)\n",
            "Requirement already satisfied: zipp>=0.5 in /usr/local/lib/python3.9/dist-packages (from importlib-metadata->python-doctr[tf]) (3.15.0)\n",
            "Requirement already satisfied: wheel<1.0,>=0.23.0 in /usr/local/lib/python3.9/dist-packages (from astunparse>=1.6.0->tensorflow<3.0.0,>=2.9.0->python-doctr[tf]) (0.40.0)\n",
            "Requirement already satisfied: pycparser in /usr/local/lib/python3.9/dist-packages (from cffi>=0.6->weasyprint>=55.0->python-doctr[tf]) (2.21)\n",
            "Requirement already satisfied: webencodings in /usr/local/lib/python3.9/dist-packages (from cssselect2>=0.1->weasyprint>=55.0->python-doctr[tf]) (0.5.1)\n",
            "Collecting zopfli>=0.1.4\n",
            "  Downloading zopfli-0.2.2-cp39-cp39-manylinux_2_5_x86_64.manylinux1_x86_64.whl (703 kB)\n",
            "\u001b[2K     \u001b[90m━━━━━━━━━━━━━━━━━━━━━━━━━━━━━━━━━━━━━━\u001b[0m \u001b[32m703.9/703.9 KB\u001b[0m \u001b[31m50.4 MB/s\u001b[0m eta \u001b[36m0:00:00\u001b[0m\n",
            "\u001b[?25hCollecting brotli>=1.0.1\n",
            "  Downloading Brotli-1.0.9-cp39-cp39-manylinux1_x86_64.whl (357 kB)\n",
            "\u001b[2K     \u001b[90m━━━━━━━━━━━━━━━━━━━━━━━━━━━━━━━━━━━━━━\u001b[0m \u001b[32m357.2/357.2 KB\u001b[0m \u001b[31m34.4 MB/s\u001b[0m eta \u001b[36m0:00:00\u001b[0m\n",
            "\u001b[?25hCollecting onnx>=1.4.1\n",
            "  Downloading onnx-1.13.0-cp39-cp39-manylinux_2_17_x86_64.manylinux2014_x86_64.whl (13.5 MB)\n",
            "\u001b[2K     \u001b[90m━━━━━━━━━━━━━━━━━━━━━━━━━━━━━━━━━━━━━━━━\u001b[0m \u001b[32m13.5/13.5 MB\u001b[0m \u001b[31m96.3 MB/s\u001b[0m eta \u001b[36m0:00:00\u001b[0m\n",
            "\u001b[?25h  Downloading onnx-1.12.0-cp39-cp39-manylinux_2_17_x86_64.manylinux2014_x86_64.whl (13.1 MB)\n",
            "\u001b[2K     \u001b[90m━━━━━━━━━━━━━━━━━━━━━━━━━━━━━━━━━━━━━━━━\u001b[0m \u001b[32m13.1/13.1 MB\u001b[0m \u001b[31m99.1 MB/s\u001b[0m eta \u001b[36m0:00:00\u001b[0m\n",
            "\u001b[?25hRequirement already satisfied: tensorboard-data-server<0.7.0,>=0.6.0 in /usr/local/lib/python3.9/dist-packages (from tensorboard<2.12,>=2.11->tensorflow<3.0.0,>=2.9.0->python-doctr[tf]) (0.6.1)\n",
            "Requirement already satisfied: werkzeug>=1.0.1 in /usr/local/lib/python3.9/dist-packages (from tensorboard<2.12,>=2.11->tensorflow<3.0.0,>=2.9.0->python-doctr[tf]) (2.2.3)\n",
            "Requirement already satisfied: tensorboard-plugin-wit>=1.6.0 in /usr/local/lib/python3.9/dist-packages (from tensorboard<2.12,>=2.11->tensorflow<3.0.0,>=2.9.0->python-doctr[tf]) (1.8.1)\n",
            "Requirement already satisfied: google-auth-oauthlib<0.5,>=0.4.1 in /usr/local/lib/python3.9/dist-packages (from tensorboard<2.12,>=2.11->tensorflow<3.0.0,>=2.9.0->python-doctr[tf]) (0.4.6)\n",
            "Requirement already satisfied: markdown>=2.6.8 in /usr/local/lib/python3.9/dist-packages (from tensorboard<2.12,>=2.11->tensorflow<3.0.0,>=2.9.0->python-doctr[tf]) (3.4.1)\n",
            "Requirement already satisfied: google-auth<3,>=1.6.3 in /usr/local/lib/python3.9/dist-packages (from tensorboard<2.12,>=2.11->tensorflow<3.0.0,>=2.9.0->python-doctr[tf]) (2.16.2)\n",
            "Requirement already satisfied: idna<4,>=2.5 in /usr/local/lib/python3.9/dist-packages (from requests->huggingface-hub>=0.4.0->python-doctr[tf]) (3.4)\n",
            "Requirement already satisfied: certifi>=2017.4.17 in /usr/local/lib/python3.9/dist-packages (from requests->huggingface-hub>=0.4.0->python-doctr[tf]) (2022.12.7)\n",
            "Requirement already satisfied: charset-normalizer~=2.0.0 in /usr/local/lib/python3.9/dist-packages (from requests->huggingface-hub>=0.4.0->python-doctr[tf]) (2.0.12)\n",
            "Requirement already satisfied: urllib3<1.27,>=1.21.1 in /usr/local/lib/python3.9/dist-packages (from requests->huggingface-hub>=0.4.0->python-doctr[tf]) (1.26.15)\n",
            "Requirement already satisfied: pyasn1-modules>=0.2.1 in /usr/local/lib/python3.9/dist-packages (from google-auth<3,>=1.6.3->tensorboard<2.12,>=2.11->tensorflow<3.0.0,>=2.9.0->python-doctr[tf]) (0.2.8)\n",
            "Requirement already satisfied: rsa<5,>=3.1.4 in /usr/local/lib/python3.9/dist-packages (from google-auth<3,>=1.6.3->tensorboard<2.12,>=2.11->tensorflow<3.0.0,>=2.9.0->python-doctr[tf]) (4.9)\n",
            "Requirement already satisfied: cachetools<6.0,>=2.0.0 in /usr/local/lib/python3.9/dist-packages (from google-auth<3,>=1.6.3->tensorboard<2.12,>=2.11->tensorflow<3.0.0,>=2.9.0->python-doctr[tf]) (5.3.0)\n",
            "Requirement already satisfied: requests-oauthlib>=0.7.0 in /usr/local/lib/python3.9/dist-packages (from google-auth-oauthlib<0.5,>=0.4.1->tensorboard<2.12,>=2.11->tensorflow<3.0.0,>=2.9.0->python-doctr[tf]) (1.3.1)\n",
            "Requirement already satisfied: MarkupSafe>=2.1.1 in /usr/local/lib/python3.9/dist-packages (from werkzeug>=1.0.1->tensorboard<2.12,>=2.11->tensorflow<3.0.0,>=2.9.0->python-doctr[tf]) (2.1.2)\n",
            "Requirement already satisfied: pyasn1<0.5.0,>=0.4.6 in /usr/local/lib/python3.9/dist-packages (from pyasn1-modules>=0.2.1->google-auth<3,>=1.6.3->tensorboard<2.12,>=2.11->tensorflow<3.0.0,>=2.9.0->python-doctr[tf]) (0.4.8)\n",
            "Requirement already satisfied: oauthlib>=3.0.0 in /usr/local/lib/python3.9/dist-packages (from requests-oauthlib>=0.7.0->google-auth-oauthlib<0.5,>=0.4.1->tensorboard<2.12,>=2.11->tensorflow<3.0.0,>=2.9.0->python-doctr[tf]) (3.2.2)\n",
            "Building wheels for collected packages: langdetect, mplcursors\n",
            "  Building wheel for langdetect (setup.py) ... \u001b[?25l\u001b[?25hdone\n",
            "  Created wheel for langdetect: filename=langdetect-1.0.9-py3-none-any.whl size=993243 sha256=ba5dc9fe15f27083654dc96a295c553b480c825f5dad0a9b539f775364e52ba0\n",
            "  Stored in directory: /root/.cache/pip/wheels/d1/c1/d9/7e068de779d863bc8f8fc9467d85e25cfe47fa5051fff1a1bb\n",
            "  Building wheel for mplcursors (setup.py) ... \u001b[?25l\u001b[?25hdone\n",
            "  Created wheel for mplcursors: filename=mplcursors-0.5.2-py3-none-any.whl size=21071 sha256=64d4aa6738263f25dcbbb80d5d8e7d16c1885687f8d1b2d0d5d72565970b6971\n",
            "  Stored in directory: /root/.cache/pip/wheels/b1/98/ff/4885c231adf3d185efdc38cf8aa2527f1b255ca714a43cb125\n",
            "Successfully built langdetect mplcursors\n",
            "Installing collected packages: pyclipper, flatbuffers, brotli, zopfli, unidecode, shapely, rapidfuzz, Pyphen, pypdfium2, pydyf, Pillow, onnx, langdetect, typeguard, tf2onnx, huggingface-hub, cssselect2, weasyprint, tensorflow-addons, mplcursors, python-doctr\n",
            "  Attempting uninstall: flatbuffers\n",
            "    Found existing installation: flatbuffers 23.3.3\n",
            "    Uninstalling flatbuffers-23.3.3:\n",
            "      Successfully uninstalled flatbuffers-23.3.3\n",
            "  Attempting uninstall: shapely\n",
            "    Found existing installation: shapely 2.0.1\n",
            "    Uninstalling shapely-2.0.1:\n",
            "      Successfully uninstalled shapely-2.0.1\n",
            "  Attempting uninstall: Pillow\n",
            "    Found existing installation: Pillow 8.4.0\n",
            "    Uninstalling Pillow-8.4.0:\n",
            "      Successfully uninstalled Pillow-8.4.0\n",
            "Successfully installed Pillow-9.4.0 Pyphen-0.14.0 brotli-1.0.9 cssselect2-0.7.0 flatbuffers-2.0.7 huggingface-hub-0.13.3 langdetect-1.0.9 mplcursors-0.5.2 onnx-1.12.0 pyclipper-1.3.0.post4 pydyf-0.5.0 pypdfium2-3.21.1 python-doctr-0.6.0 rapidfuzz-2.13.7 shapely-1.8.5.post1 tensorflow-addons-0.19.0 tf2onnx-1.13.0 typeguard-3.0.2 unidecode-1.3.6 weasyprint-58.1 zopfli-0.2.2\n"
          ]
        },
        {
          "output_type": "display_data",
          "data": {
            "application/vnd.colab-display-data+json": {
              "pip_warning": {
                "packages": [
                  "PIL"
                ]
              }
            }
          },
          "metadata": {}
        }
      ]
    },
    {
      "cell_type": "markdown",
      "metadata": {
        "id": "zUbhZiRiIxbN"
      },
      "source": [
        "## From source\n",
        "\n",
        "Before being staged for a stable release, we constantly iterate on the community feedback to improve the library. Bug fixes and performance improvements are regularly pushed to the project Git repository. Using this installation method, you will access all the latest features that have not yet made their way to a pypi release!"
      ]
    },
    {
      "cell_type": "code",
      "metadata": {
        "id": "AJZgLM_CIzKf"
      },
      "source": [
        "# Install the most up-to-date version from GitHub\n",
        "# TensorFlow\n",
        "!pip install -e git+https://github.com/mindee/doctr.git#egg=python-doctr[tf]\n",
        "# PyTorch\n",
        "#!pip install -e git+https://github.com/mindee/doctr.git#egg=python-doctr[torch]"
      ],
      "execution_count": null,
      "outputs": []
    },
    {
      "cell_type": "markdown",
      "metadata": {
        "id": "RvJ3PzAQI0zK"
      },
      "source": [
        "Now go to  `Runtime/Restart runtime` for your changes to take effect!"
      ]
    },
    {
      "cell_type": "markdown",
      "metadata": {
        "id": "r2mgRuCaJY4F"
      },
      "source": [
        "# Basic usage\n",
        "\n",
        "We're going to review the main features of docTR 🎁\n",
        "And for you to have a proper overview of its capabilities, we will need some free fonts for a proper output visualization:"
      ]
    },
    {
      "cell_type": "code",
      "metadata": {
        "id": "2Qhrp88TPDZi"
      },
      "source": [
        "# Install some free fonts for result rendering\n",
        "!sudo apt-get install fonts-freefont-ttf -y"
      ],
      "execution_count": null,
      "outputs": []
    },
    {
      "cell_type": "markdown",
      "metadata": {
        "id": "Fe7KuocKSWX9"
      },
      "source": [
        "Let's take care of all the imports directly"
      ]
    },
    {
      "cell_type": "code",
      "metadata": {
        "id": "xSoeo0hRJbnU"
      },
      "source": [
        "%matplotlib inline\n",
        "import os\n",
        "\n",
        "# Let's pick the desired backend\n",
        "os.environ['USE_TF'] = '1'\n",
        "#os.environ['USE_TORCH'] = '1'\n",
        "\n",
        "import matplotlib.pyplot as plt\n",
        "\n",
        "from doctr.io import DocumentFile\n",
        "from doctr.models import ocr_predictor"
      ],
      "execution_count": 1,
      "outputs": []
    },
    {
      "cell_type": "markdown",
      "metadata": {
        "id": "7wwEmHqZSaLF"
      },
      "source": [
        "For the next steps, we will need a proper PDF document that will be used to showcase the library features"
      ]
    },
    {
      "cell_type": "code",
      "metadata": {
        "id": "UIBwFsVuJocy",
        "colab": {
          "base_uri": "https://localhost:8080/"
        },
        "outputId": "9180dd7d-cd03-4b76-e2b0-ac8a662be34d"
      },
      "source": [
        "# Download a sample\n",
        "#!wget https://eforms.com/download/2019/01/Cash-Payment-Receipt-Template.pdf\n",
        "# Read the file\n",
        "doc = DocumentFile.from_pdf(\"/content/sample_data/2022_07_6_9001532503-5.pdf\")\n",
        "print(f\"Number of pages: {len(doc)}\")"
      ],
      "execution_count": 18,
      "outputs": [
        {
          "output_type": "stream",
          "name": "stdout",
          "text": [
            "Number of pages: 2\n"
          ]
        }
      ]
    },
    {
      "cell_type": "markdown",
      "metadata": {
        "id": "cM6PPiWpSmb0"
      },
      "source": [
        "docTR is, under the hood, running Deep Learning models to perform the different tasks it supports. Those models were built and trained with very popular frameworks for maximum compatibility (you will be pleased to know that you can switch from [PyTorch](https://pytorch.org/) to [TensorFlow](https://www.tensorflow.org/) without noticing any difference for you). By default, our high-level API sets the best default values so that you get high performing models without having to know anything about it. All of this is wrapper in a `Predictor` object, which will take care of pre-processing, model inference and post-processing for you ⚡\n",
        "\n",
        "Let's instantiate one!"
      ]
    },
    {
      "cell_type": "code",
      "metadata": {
        "id": "WAoUcVQbKIfT"
      },
      "source": [
        "# Instantiate a pretrained model\n",
        "predictor = ocr_predictor(pretrained=True)"
      ],
      "execution_count": 8,
      "outputs": []
    },
    {
      "cell_type": "markdown",
      "metadata": {
        "id": "PKKYSs0ET0XQ"
      },
      "source": [
        "By default, PyTorch model provides a nice visual description of a model, which is handy when it comes to debugging or knowing what you just created. We also added a similar feature for TensorFlow backend so that you don't miss on this nice assistance.\n",
        "\n",
        "Let's dive into this model 🕵"
      ]
    },
    {
      "cell_type": "code",
      "metadata": {
        "id": "urR0KyUYOT-B",
        "colab": {
          "base_uri": "https://localhost:8080/"
        },
        "outputId": "9325c667-93a6-47a8-a6ae-9ecc00eca595"
      },
      "source": [
        "# Display the architecture\n",
        "print(predictor)"
      ],
      "execution_count": 19,
      "outputs": [
        {
          "output_type": "stream",
          "name": "stdout",
          "text": [
            "OCRPredictor(\n",
            "  (det_predictor): DetectionPredictor(\n",
            "    (pre_processor): PreProcessor(\n",
            "      (resize): Resize(output_size=(1024, 1024), method='bilinear')\n",
            "      (normalize): Normalize(mean=[0.7979999780654907, 0.7850000262260437, 0.7720000147819519], std=[0.2639999985694885, 0.27489998936653137, 0.28700000047683716])\n",
            "    )\n",
            "    (model): DBNet(\n",
            "      (feat_extractor): IntermediateLayerGetter()\n",
            "      (fpn): FeaturePyramidNetwork(channels=128)\n",
            "      (probability_head): <keras.engine.sequential.Sequential object at 0x7fb8cd9183a0>\n",
            "      (threshold_head): <keras.engine.sequential.Sequential object at 0x7fb8cd8c37f0>\n",
            "      (postprocessor): DBPostProcessor(bin_thresh=0.3, box_thresh=0.1)\n",
            "    )\n",
            "  )\n",
            "  (reco_predictor): RecognitionPredictor(\n",
            "    (pre_processor): PreProcessor(\n",
            "      (resize): Resize(output_size=(32, 128), method='bilinear', preserve_aspect_ratio=True, symmetric_pad=False)\n",
            "      (normalize): Normalize(mean=[0.6940000057220459, 0.6949999928474426, 0.6930000185966492], std=[0.29899999499320984, 0.29600000381469727, 0.3009999990463257])\n",
            "    )\n",
            "    (model): CRNN(\n",
            "      (feat_extractor): <doctr.models.classification.vgg.tensorflow.VGG object at 0x7fb8cda0ce50>\n",
            "      (decoder): <keras.engine.sequential.Sequential object at 0x7fb8cd803e20>\n",
            "      (postprocessor): CTCPostProcessor(vocab_size=123)\n",
            "    )\n",
            "  )\n",
            "  (doc_builder): DocumentBuilder(resolve_lines=True, resolve_blocks=True, paragraph_break=0.035, export_as_straight_boxes=False)\n",
            ")\n"
          ]
        }
      ]
    },
    {
      "cell_type": "markdown",
      "metadata": {
        "id": "dlrtkNzTURAo"
      },
      "source": [
        "Here we are inspecting the most complex (and high-level) object of docTR API: an OCR predictor. Since docTR achieves Optical Character Recognition by first localizing textual elements (Text Detection), then extracting the corresponding text from each location (Text Recognition), the OCR Predictor wraps two sub-predictors: one for text detection, and the other for text recognition."
      ]
    },
    {
      "cell_type": "code",
      "source": [],
      "metadata": {
        "id": "oHJVhWnqaCQa"
      },
      "execution_count": null,
      "outputs": []
    },
    {
      "cell_type": "markdown",
      "metadata": {
        "id": "uyVfbzhUL-Rw"
      },
      "source": [
        "## Basic inference\n",
        "\n",
        "It looks quite complex, isn't it?\n",
        "Well that will not prevent you from easily get nice results. See for yourself:"
      ]
    },
    {
      "cell_type": "code",
      "source": [
        "!wget https://eforms.com/download/2019/01/Cash-Payment-Receipt-Template.pdf\n",
        "# Read the file\n",
        "doc = DocumentFile.from_pdf(\"/content/sample_data/table.pdf\")\n",
        "print(f\"Number of pages: {len(doc)}\")"
      ],
      "metadata": {
        "colab": {
          "base_uri": "https://localhost:8080/"
        },
        "id": "wVLdUzNvaEVD",
        "outputId": "b27618b5-b1cb-424e-8a85-531966d77171"
      },
      "execution_count": 13,
      "outputs": [
        {
          "output_type": "stream",
          "name": "stdout",
          "text": [
            "--2023-03-22 22:20:08--  https://eforms.com/download/2019/01/Cash-Payment-Receipt-Template.pdf\n",
            "Resolving eforms.com (eforms.com)... 104.21.92.25, 172.67.185.85, 2606:4700:3031::ac43:b955, ...\n",
            "Connecting to eforms.com (eforms.com)|104.21.92.25|:443... connected.\n",
            "HTTP request sent, awaiting response... 200 OK\n",
            "Length: 16080 (16K) [application/pdf]\n",
            "Saving to: ‘Cash-Payment-Receipt-Template.pdf.2’\n",
            "\n",
            "\r          Cash-Paym   0%[                    ]       0  --.-KB/s               \rCash-Payment-Receip 100%[===================>]  15.70K  --.-KB/s    in 0s      \n",
            "\n",
            "2023-03-22 22:20:08 (105 MB/s) - ‘Cash-Payment-Receipt-Template.pdf.2’ saved [16080/16080]\n",
            "\n",
            "Number of pages: 1\n"
          ]
        }
      ]
    },
    {
      "cell_type": "code",
      "metadata": {
        "id": "RLPsdCj3PWzI"
      },
      "source": [
        "result = predictor(doc)"
      ],
      "execution_count": 20,
      "outputs": []
    },
    {
      "cell_type": "markdown",
      "metadata": {
        "id": "eFAwQaKuPYXG"
      },
      "source": [
        "## Prediction visualization\n",
        "\n",
        "If you rightfully prefer to see the results with your eyes, docTR includes a few visualization features. We will first overlay our predictions on the original document:"
      ]
    },
    {
      "cell_type": "code",
      "metadata": {
        "id": "sOcqPNnPMAE7"
      },
      "source": [
        "result.show(doc)"
      ],
      "execution_count": null,
      "outputs": []
    },
    {
      "cell_type": "markdown",
      "metadata": {
        "id": "EnJERph1VXgN"
      },
      "source": [
        "Looks accurate!\n",
        "But we can go further: if the extracted information is correctly structured, we should be able to recreate the page entirely. So let's do this 🎨"
      ]
    },
    {
      "cell_type": "code",
      "metadata": {
        "id": "QdoSNYzROeRv"
      },
      "source": [
        "synthetic_pages = result.synthesize()\n",
        "plt.figure(figsize = (50,50))\n",
        "\n",
        "plt.imshow(synthetic_pages[0]); plt.axis('off'); \n",
        "plt.show()"
      ],
      "execution_count": null,
      "outputs": []
    },
    {
      "cell_type": "markdown",
      "metadata": {
        "id": "mEabainyPeV8"
      },
      "source": [
        "## Exporting results\n",
        "\n",
        "OK, so the predictions are relevant, but how would you integrate this into your own document processing pipeline? Perhaps you're not using Python at all?\n",
        "\n",
        "Well, if you happen to be using JSON or XML exports, they are already supported 🤗"
      ]
    },
    {
      "cell_type": "code",
      "metadata": {
        "id": "mhIolyjQOqLp",
        "colab": {
          "base_uri": "https://localhost:8080/"
        },
        "outputId": "293c6945-d272-43a1-c319-555530ec6732"
      },
      "source": [
        "# JSON export\n",
        "json_export = result.export()\n",
        "print(json_export)"
      ],
      "execution_count": 17,
      "outputs": [
        {
          "output_type": "stream",
          "name": "stdout",
          "text": [
            "{'pages': [{'page_idx': 0, 'dimensions': (1584, 1224), 'orientation': {'value': None, 'confidence': None}, 'language': {'value': None, 'confidence': None}, 'blocks': [{'geometry': ((0.1181640625, 0.125), (0.267578125, 0.142578125)), 'lines': [{'geometry': ((0.1181640625, 0.125), (0.267578125, 0.142578125)), 'words': [{'value': 'Example', 'confidence': 0.9993807673454285, 'geometry': ((0.1181640625, 0.125), (0.2099609375, 0.142578125))}, {'value': 'table', 'confidence': 0.9983372092247009, 'geometry': ((0.212890625, 0.125), (0.267578125, 0.1396484375))}]}], 'artefacts': []}, {'geometry': ((0.115234375, 0.14453125), (0.4775390625, 0.166015625)), 'lines': [{'geometry': ((0.115234375, 0.14453125), (0.4775390625, 0.166015625)), 'words': [{'value': 'This', 'confidence': 0.9135354161262512, 'geometry': ((0.115234375, 0.1455078125), (0.162109375, 0.1640625))}, {'value': 'is', 'confidence': 0.9996023774147034, 'geometry': ((0.1650390625, 0.146484375), (0.185546875, 0.1650390625))}, {'value': 'an', 'confidence': 0.9999418258666992, 'geometry': ((0.1865234375, 0.1484375), (0.2158203125, 0.1640625))}, {'value': 'example', 'confidence': 0.5650549530982971, 'geometry': ((0.2197265625, 0.1474609375), (0.310546875, 0.166015625))}, {'value': 'of', 'confidence': 0.9978132247924805, 'geometry': ((0.3154296875, 0.14453125), (0.34375, 0.1650390625))}, {'value': 'a', 'confidence': 0.9934478998184204, 'geometry': ((0.34375, 0.1484375), (0.3583984375, 0.1630859375))}, {'value': 'data', 'confidence': 0.9998903274536133, 'geometry': ((0.3623046875, 0.1474609375), (0.4111328125, 0.1630859375))}, {'value': 'table.', 'confidence': 0.9988572001457214, 'geometry': ((0.4150390625, 0.146484375), (0.4775390625, 0.1640625))}]}], 'artefacts': []}, {'geometry': ((0.732421875, 0.1865234375), (0.7919921875, 0.1982421875)), 'lines': [{'geometry': ((0.732421875, 0.1865234375), (0.7919921875, 0.1982421875)), 'words': [{'value': 'Results', 'confidence': 0.9264872670173645, 'geometry': ((0.732421875, 0.1865234375), (0.7919921875, 0.1982421875))}]}], 'artefacts': []}, {'geometry': ((0.5068359375, 0.1962890625), (0.6103515625, 0.322265625)), 'lines': [{'geometry': ((0.5087890625, 0.1962890625), (0.5654296875, 0.2080078125)), 'words': [{'value': 'Ballots', 'confidence': 0.9951751232147217, 'geometry': ((0.5087890625, 0.1962890625), (0.5654296875, 0.2080078125))}]}, {'geometry': ((0.5087890625, 0.2138671875), (0.6103515625, 0.228515625)), 'words': [{'value': 'Incomplete/', 'confidence': 0.821925938129425, 'geometry': ((0.5087890625, 0.2138671875), (0.6103515625, 0.228515625))}]}, {'geometry': ((0.5068359375, 0.2314453125), (0.60546875, 0.24609375)), 'words': [{'value': 'Terminated', 'confidence': 0.9977513551712036, 'geometry': ((0.5068359375, 0.2314453125), (0.60546875, 0.24609375))}]}, {'geometry': ((0.55859375, 0.275390625), (0.57421875, 0.2890625)), 'words': [{'value': '4', 'confidence': 0.9999828338623047, 'geometry': ((0.55859375, 0.275390625), (0.57421875, 0.2890625))}]}, {'geometry': ((0.5595703125, 0.3076171875), (0.5732421875, 0.322265625)), 'words': [{'value': '3', 'confidence': 0.9999732971191406, 'geometry': ((0.5595703125, 0.3076171875), (0.5732421875, 0.322265625))}]}], 'artefacts': []}, {'geometry': ((0.1455078125, 0.2041015625), (0.2265625, 0.322265625)), 'lines': [{'geometry': ((0.1455078125, 0.2041015625), (0.2255859375, 0.2216796875)), 'words': [{'value': 'Disability', 'confidence': 0.6688452363014221, 'geometry': ((0.1455078125, 0.2041015625), (0.2255859375, 0.2216796875))}]}, {'geometry': ((0.146484375, 0.224609375), (0.220703125, 0.2392578125)), 'words': [{'value': 'Category', 'confidence': 0.99952232837677, 'geometry': ((0.146484375, 0.224609375), (0.220703125, 0.2392578125))}]}, {'geometry': ((0.1455078125, 0.2744140625), (0.1865234375, 0.2890625)), 'words': [{'value': 'Blind', 'confidence': 0.7843904495239258, 'geometry': ((0.1455078125, 0.2744140625), (0.1865234375, 0.2890625))}]}, {'geometry': ((0.1455078125, 0.3076171875), (0.2265625, 0.322265625)), 'words': [{'value': 'Low', 'confidence': 0.9997653961181641, 'geometry': ((0.1455078125, 0.3076171875), (0.1806640625, 0.322265625))}, {'value': 'Vision', 'confidence': 0.9694578647613525, 'geometry': ((0.1806640625, 0.3095703125), (0.2265625, 0.3212890625))}]}], 'artefacts': []}, {'geometry': ((0.390625, 0.2041015625), (0.48046875, 0.3232421875)), 'lines': [{'geometry': ((0.390625, 0.2041015625), (0.44921875, 0.21875)), 'words': [{'value': 'Ballots', 'confidence': 0.9811577796936035, 'geometry': ((0.390625, 0.2041015625), (0.44921875, 0.21875))}]}, {'geometry': ((0.390625, 0.2236328125), (0.48046875, 0.23828125)), 'words': [{'value': 'Completed', 'confidence': 0.9548511505126953, 'geometry': ((0.390625, 0.2236328125), (0.48046875, 0.23828125))}]}, {'geometry': ((0.4345703125, 0.275390625), (0.4482421875, 0.2900390625)), 'words': [{'value': '1', 'confidence': 0.9995880722999573, 'geometry': ((0.4345703125, 0.275390625), (0.4482421875, 0.2900390625))}]}, {'geometry': ((0.4345703125, 0.3076171875), (0.4482421875, 0.3232421875)), 'words': [{'value': '2', 'confidence': 0.9998207092285156, 'geometry': ((0.4345703125, 0.3076171875), (0.4482421875, 0.3232421875))}]}], 'artefacts': []}, {'geometry': ((0.2734375, 0.2138671875), (0.37109375, 0.228515625)), 'lines': [{'geometry': ((0.2734375, 0.2138671875), (0.37109375, 0.228515625)), 'words': [{'value': 'Participants', 'confidence': 0.998336911201477, 'geometry': ((0.2734375, 0.2138671875), (0.37109375, 0.228515625))}]}], 'artefacts': []}, {'geometry': ((0.650390625, 0.22265625), (0.734375, 0.322265625)), 'lines': [{'geometry': ((0.6552734375, 0.22265625), (0.728515625, 0.234375)), 'words': [{'value': 'Accuracy', 'confidence': 0.9943122863769531, 'geometry': ((0.6552734375, 0.22265625), (0.728515625, 0.234375))}]}, {'geometry': ((0.650390625, 0.275390625), (0.734375, 0.2900390625)), 'words': [{'value': '34.5%,', 'confidence': 0.998962938785553, 'geometry': ((0.650390625, 0.275390625), (0.701171875, 0.2900390625))}, {'value': 'n=1', 'confidence': 0.9901789426803589, 'geometry': ((0.7021484375, 0.275390625), (0.734375, 0.2900390625))}]}, {'geometry': ((0.65234375, 0.3076171875), (0.7314453125, 0.322265625)), 'words': [{'value': '98.3%', 'confidence': 0.999517560005188, 'geometry': ((0.65234375, 0.3095703125), (0.7001953125, 0.3212890625))}, {'value': 'n=2', 'confidence': 0.9929212331771851, 'geometry': ((0.7001953125, 0.3076171875), (0.7314453125, 0.322265625))}]}], 'artefacts': []}, {'geometry': ((0.76953125, 0.2197265625), (0.873046875, 0.32421875)), 'lines': [{'geometry': ((0.787109375, 0.2197265625), (0.8544921875, 0.2353515625)), 'words': [{'value': 'Time', 'confidence': 0.6015638709068298, 'geometry': ((0.787109375, 0.2197265625), (0.83203125, 0.234375))}, {'value': 'to', 'confidence': 0.9999790191650391, 'geometry': ((0.8310546875, 0.2197265625), (0.8544921875, 0.2353515625))}]}, {'geometry': ((0.78125, 0.2421875), (0.8603515625, 0.2568359375)), 'words': [{'value': 'complete', 'confidence': 0.9985376596450806, 'geometry': ((0.78125, 0.2421875), (0.8603515625, 0.2568359375))}]}, {'geometry': ((0.7705078125, 0.275390625), (0.873046875, 0.291015625)), 'words': [{'value': '1199', 'confidence': 0.9999790191650391, 'geometry': ((0.7705078125, 0.2763671875), (0.80859375, 0.2880859375))}, {'value': 'sec,', 'confidence': 0.9975111484527588, 'geometry': ((0.80859375, 0.2763671875), (0.841796875, 0.291015625))}, {'value': 'n=1', 'confidence': 0.9908572435379028, 'geometry': ((0.8408203125, 0.275390625), (0.873046875, 0.2900390625))}]}, {'geometry': ((0.76953125, 0.3076171875), (0.873046875, 0.32421875)), 'words': [{'value': '1716', 'confidence': 0.9999418258666992, 'geometry': ((0.76953125, 0.3076171875), (0.810546875, 0.322265625))}, {'value': 'sec,', 'confidence': 0.9978422522544861, 'geometry': ((0.80859375, 0.3095703125), (0.841796875, 0.32421875))}, {'value': 'n=3', 'confidence': 0.9916077852249146, 'geometry': ((0.8408203125, 0.3076171875), (0.873046875, 0.3232421875))}]}], 'artefacts': []}, {'geometry': ((0.31640625, 0.275390625), (0.3310546875, 0.3232421875)), 'lines': [{'geometry': ((0.31640625, 0.275390625), (0.3310546875, 0.2900390625)), 'words': [{'value': '5', 'confidence': 0.9999895095825195, 'geometry': ((0.31640625, 0.275390625), (0.3310546875, 0.2900390625))}]}, {'geometry': ((0.31640625, 0.3076171875), (0.3310546875, 0.3232421875)), 'words': [{'value': '5', 'confidence': 0.9999856948852539, 'geometry': ((0.31640625, 0.3076171875), (0.3310546875, 0.3232421875))}]}], 'artefacts': []}, {'geometry': ((0.64453125, 0.3388671875), (0.8798828125, 0.3876953125)), 'lines': [{'geometry': ((0.64453125, 0.3388671875), (0.87890625, 0.357421875)), 'words': [{'value': '(97.7%,', 'confidence': 0.9721881747245789, 'geometry': ((0.64453125, 0.3408203125), (0.701171875, 0.35546875))}, {'value': 'n=3)', 'confidence': 0.9941368699073792, 'geometry': ((0.7021484375, 0.33984375), (0.7392578125, 0.35546875))}, {'value': '(1934', 'confidence': 0.999641478061676, 'geometry': ((0.7646484375, 0.33984375), (0.8095703125, 0.35546875))}, {'value': 'sec,', 'confidence': 0.9986381530761719, 'geometry': ((0.80859375, 0.341796875), (0.841796875, 0.3564453125))}, {'value': 'n=2)', 'confidence': 0.8300314545631409, 'geometry': ((0.8408203125, 0.3388671875), (0.87890625, 0.357421875))}]}, {'geometry': ((0.6494140625, 0.3720703125), (0.8798828125, 0.3876953125)), 'words': [{'value': '98.3%,', 'confidence': 0.9999113082885742, 'geometry': ((0.6494140625, 0.373046875), (0.7021484375, 0.3876953125))}, {'value': 'n=4', 'confidence': 0.9940468072891235, 'geometry': ((0.7021484375, 0.3720703125), (0.734375, 0.38671875))}, {'value': '1672.1', 'confidence': 0.9917780160903931, 'geometry': ((0.7646484375, 0.3740234375), (0.81640625, 0.3857421875))}, {'value': 'sec,', 'confidence': 0.9977471232414246, 'geometry': ((0.8125, 0.373046875), (0.84765625, 0.3876953125))}, {'value': 'n=4', 'confidence': 0.9912229776382446, 'geometry': ((0.84765625, 0.3720703125), (0.8798828125, 0.38671875))}]}], 'artefacts': []}, {'geometry': ((0.146484375, 0.373046875), (0.216796875, 0.4208984375)), 'lines': [{'geometry': ((0.146484375, 0.373046875), (0.216796875, 0.3876953125)), 'words': [{'value': 'Dexterity', 'confidence': 0.9065645337104797, 'geometry': ((0.146484375, 0.373046875), (0.216796875, 0.3876953125))}]}, {'geometry': ((0.146484375, 0.40625), (0.2099609375, 0.4208984375)), 'words': [{'value': 'Mobility', 'confidence': 0.7446352243423462, 'geometry': ((0.146484375, 0.40625), (0.2099609375, 0.4208984375))}]}], 'artefacts': []}, {'geometry': ((0.31640625, 0.3720703125), (0.3310546875, 0.419921875)), 'lines': [{'geometry': ((0.31640625, 0.3720703125), (0.3310546875, 0.38671875)), 'words': [{'value': '5', 'confidence': 0.9999885559082031, 'geometry': ((0.31640625, 0.3720703125), (0.3310546875, 0.38671875))}]}, {'geometry': ((0.31640625, 0.4052734375), (0.3310546875, 0.419921875)), 'words': [{'value': '3', 'confidence': 0.9999675750732422, 'geometry': ((0.31640625, 0.4052734375), (0.3310546875, 0.419921875))}]}], 'artefacts': []}, {'geometry': ((0.4345703125, 0.3720703125), (0.4482421875, 0.419921875)), 'lines': [{'geometry': ((0.4345703125, 0.3720703125), (0.4482421875, 0.38671875)), 'words': [{'value': '4', 'confidence': 0.9999895095825195, 'geometry': ((0.4345703125, 0.3720703125), (0.4482421875, 0.38671875))}]}, {'geometry': ((0.4345703125, 0.4052734375), (0.4482421875, 0.419921875)), 'words': [{'value': '3', 'confidence': 0.9999589920043945, 'geometry': ((0.4345703125, 0.4052734375), (0.4482421875, 0.419921875))}]}], 'artefacts': []}, {'geometry': ((0.5595703125, 0.3720703125), (0.5732421875, 0.4189453125)), 'lines': [{'geometry': ((0.5595703125, 0.3720703125), (0.5732421875, 0.38671875)), 'words': [{'value': '1', 'confidence': 0.9994193911552429, 'geometry': ((0.5595703125, 0.3720703125), (0.5732421875, 0.38671875))}]}, {'geometry': ((0.5595703125, 0.4052734375), (0.5732421875, 0.4189453125)), 'words': [{'value': '0', 'confidence': 0.9957451820373535, 'geometry': ((0.5595703125, 0.4052734375), (0.5732421875, 0.4189453125))}]}], 'artefacts': []}, {'geometry': ((0.6494140625, 0.4052734375), (0.734375, 0.4208984375)), 'lines': [{'geometry': ((0.6494140625, 0.4052734375), (0.734375, 0.4208984375)), 'words': [{'value': '95.4%,', 'confidence': 0.9990286827087402, 'geometry': ((0.6494140625, 0.40625), (0.7021484375, 0.4208984375))}, {'value': 'n=3', 'confidence': 0.9958629608154297, 'geometry': ((0.7021484375, 0.4052734375), (0.734375, 0.419921875))}]}], 'artefacts': []}, {'geometry': ((0.76953125, 0.4052734375), (0.873046875, 0.421875)), 'lines': [{'geometry': ((0.76953125, 0.4052734375), (0.873046875, 0.421875)), 'words': [{'value': '1416', 'confidence': 0.9998893737792969, 'geometry': ((0.76953125, 0.4052734375), (0.810546875, 0.419921875))}, {'value': 'sec,', 'confidence': 0.9963265061378479, 'geometry': ((0.80859375, 0.40625), (0.841796875, 0.421875))}, {'value': 'n=3', 'confidence': 0.9962647557258606, 'geometry': ((0.841796875, 0.4052734375), (0.873046875, 0.419921875))}]}], 'artefacts': []}]}]}\n"
          ]
        }
      ]
    },
    {
      "cell_type": "code",
      "metadata": {
        "id": "3RsuKIlYPnNf",
        "colab": {
          "base_uri": "https://localhost:8080/"
        },
        "outputId": "f51e1748-edfe-4987-d987-082a2ede2004"
      },
      "source": [
        "# XML export\n",
        "xml_output = result.export_as_xml()\n",
        "print(xml_output[0][0])"
      ],
      "execution_count": null,
      "outputs": [
        {
          "output_type": "stream",
          "name": "stdout",
          "text": [
            "b'<html xml:lang=\"en\" xmlns=\"http://www.w3.org/1999/xhtml\"><head><title>docTR - XML export (hOCR)</title><meta content=\"text/html; charset=utf-8\" http-equiv=\"Content-Type\" /><meta content=\"python-doctr 0.4.1a0\" name=\"ocr-system\" /><meta content=\"ocr_page ocr_carea ocr_par ocr_line ocrx_word\" name=\"ocr-capabilities\" /></head><body><div class=\"ocr_page\" id=\"page_1\" title=\"image; bbox 0 0 1224 1584; ppageno 0\" /><div class=\"ocr_carea\" id=\"block_1\" title=\"bbox 385 101                     842 133\"><p class=\"ocr_par\" id=\"par_1\" title=\"bbox 385 101                     842 133\"><span class=\"ocr_line\" id=\"line_1\" title=\"bbox 385 101                         842 133;                         baseline 0 0; x_size 0; x_descenders 0; x_ascenders 0\"><span class=\"ocrx_word\" id=\"word_1\" title=\"bbox 385 102                             488 131;                             x_wconf 100\">CASH</span><span class=\"ocrx_word\" id=\"word_2\" title=\"bbox 497 101                             675 133;                             x_wconf 100\">PAYMENT</span><span class=\"ocrx_word\" id=\"word_3\" title=\"bbox 685 101                             842 133;                             x_wconf 100\">RECEIPT</span></span></p></div><div class=\"ocr_carea\" id=\"block_2\" title=\"bbox 142 179                     341 481\"><p class=\"ocr_par\" id=\"par_2\" title=\"bbox 142 179                     341 481\"><span class=\"ocr_line\" id=\"line_2\" title=\"bbox 145 179                         341 210;                         baseline 0 0; x_size 0; x_descenders 0; x_ascenders 0\"><span class=\"ocrx_word\" id=\"word_4\" title=\"bbox 145 181                             257 210;                             x_wconf 100\">Company</span><span class=\"ocrx_word\" id=\"word_5\" title=\"bbox 262 179                             341 207;                             x_wconf 96\">Name:</span></span><span class=\"ocr_line\" id=\"line_3\" title=\"bbox 142 209                         325 237;                         baseline 0 0; x_size 0; x_descenders 0; x_ascenders 0\"><span class=\"ocrx_word\" id=\"word_6\" title=\"bbox 142 209                             216 237;                             x_wconf 100\">Street</span><span class=\"ocrx_word\" id=\"word_7\" title=\"bbox 219 209                             325 237;                             x_wconf 100\">Address:</span></span><span class=\"ocr_line\" id=\"line_4\" title=\"bbox 142 238                         325 274;                         baseline 0 0; x_size 0; x_descenders 0; x_ascenders 0\"><span class=\"ocrx_word\" id=\"word_8\" title=\"bbox 142 240                             198 271;                             x_wconf 75\">City,</span><span class=\"ocrx_word\" id=\"word_9\" title=\"bbox 202 240                             273 269;                             x_wconf 100\">State,</span><span class=\"ocrx_word\" id=\"word_10\" title=\"bbox 274 238                             325 274;                             x_wconf 100\">Zip:</span></span><span class=\"ocr_line\" id=\"line_5\" title=\"bbox 143 269                         228 297;                         baseline 0 0; x_size 0; x_descenders 0; x_ascenders 0\"><span class=\"ocrx_word\" id=\"word_11\" title=\"bbox 143 269                             228 297;                             x_wconf 100\">Phone:</span></span><span class=\"ocr_line\" id=\"line_6\" title=\"bbox 142 299                         198 328;                         baseline 0 0; x_size 0; x_descenders 0; x_ascenders 0\"><span class=\"ocrx_word\" id=\"word_12\" title=\"bbox 142 299                             198 328;                             x_wconf 100\">Fax:</span></span><span class=\"ocr_line\" id=\"line_7\" title=\"bbox 142 328                         218 356;                         baseline 0 0; x_size 0; x_descenders 0; x_ascenders 0\"><span class=\"ocrx_word\" id=\"word_13\" title=\"bbox 142 328                             218 356;                             x_wconf 100\">Email:</span></span><span class=\"ocr_line\" id=\"line_8\" title=\"bbox 143 360                         246 384;                         baseline 0 0; x_size 0; x_descenders 0; x_ascenders 0\"><span class=\"ocrx_word\" id=\"word_14\" title=\"bbox 143 360                             246 384;                             x_wconf 96\">Website:</span></span><span class=\"ocr_line\" id=\"line_9\" title=\"bbox 142 453                         209 481;                         baseline 0 0; x_size 0; x_descenders 0; x_ascenders 0\"><span class=\"ocrx_word\" id=\"word_15\" title=\"bbox 142 453                             209 481;                             x_wconf 100\">Date:</span></span></p></div><div class=\"ocr_carea\" id=\"block_3\" title=\"bbox 778 453                     898 484\"><p class=\"ocr_par\" id=\"par_3\" title=\"bbox 778 453                     898 484\"><span class=\"ocr_line\" id=\"line_10\" title=\"bbox 778 453                         898 484;                         baseline 0 0; x_size 0; x_descenders 0; x_ascenders 0\"><span class=\"ocrx_word\" id=\"word_16\" title=\"bbox 778 455                             868 484;                             x_wconf 100\">Receipt</span><span class=\"ocrx_word\" id=\"word_17\" title=\"bbox 870 453                             898 483;                             x_wconf 86\">#:</span></span></p></div><div class=\"ocr_carea\" id=\"block_4\" title=\"bbox 454 586                     771 620\"><p class=\"ocr_par\" id=\"par_4\" title=\"bbox 454 586                     771 620\"><span class=\"ocr_line\" id=\"line_11\" title=\"bbox 454 586                         771 620;                         baseline 0 0; x_size 0; x_descenders 0; x_ascenders 0\"><span class=\"ocrx_word\" id=\"word_18\" title=\"bbox 454 586                             588 620;                             x_wconf 100\">Payment</span><span class=\"ocrx_word\" id=\"word_19\" title=\"bbox 596 586                             771 614;                             x_wconf 97\">Information</span></span></p></div><div class=\"ocr_carea\" id=\"block_5\" title=\"bbox 142 656                     337 820\"><p class=\"ocr_par\" id=\"par_5\" title=\"bbox 142 656                     337 820\"><span class=\"ocr_line\" id=\"line_12\" title=\"bbox 142 656                         245 693;                         baseline 0 0; x_size 0; x_descenders 0; x_ascenders 0\"><span class=\"ocrx_word\" id=\"word_20\" title=\"bbox 142 657                             200 687;                             x_wconf 99\">Paid</span><span class=\"ocrx_word\" id=\"word_21\" title=\"bbox 200 656                             245 693;                             x_wconf 100\">By:</span></span><span class=\"ocr_line\" id=\"line_13\" title=\"bbox 143 722                         302 752;                         baseline 0 0; x_size 0; x_descenders 0; x_ascenders 0\"><span class=\"ocrx_word\" id=\"word_22\" title=\"bbox 143 725                             235 749;                             x_wconf 100\">Amount</span><span class=\"ocrx_word\" id=\"word_23\" title=\"bbox 239 722                             302 752;                             x_wconf 99\">Paid:</span></span><span class=\"ocr_line\" id=\"line_14\" title=\"bbox 142 787                         337 820;                         baseline 0 0; x_size 0; x_descenders 0; x_ascenders 0\"><span class=\"ocrx_word\" id=\"word_24\" title=\"bbox 142 787                             188 817;                             x_wconf 95\">For</span><span class=\"ocrx_word\" id=\"word_25\" title=\"bbox 191 790                             295 820;                             x_wconf 100\">Payment</span><span class=\"ocrx_word\" id=\"word_26\" title=\"bbox 299 789                             337 815;                             x_wconf 100\">Of:</span></span></p></div><div class=\"ocr_carea\" id=\"block_6\" title=\"bbox 705 721                     822 756\"><p class=\"ocr_par\" id=\"par_6\" title=\"bbox 705 721                     822 756\"><span class=\"ocr_line\" id=\"line_15\" title=\"bbox 705 721                         822 756;                         baseline 0 0; x_size 0; x_descenders 0; x_ascenders 0\"><span class=\"ocrx_word\" id=\"word_27\" title=\"bbox 705 725                             788 749;                             x_wconf 99\">Dollars</span><span class=\"ocrx_word\" id=\"word_28\" title=\"bbox 791 721                             822 756;                             x_wconf 100\">($</span></span></p></div><div class=\"ocr_carea\" id=\"block_7\" title=\"bbox 736 902                     913 1035\"><p class=\"ocr_par\" id=\"par_7\" title=\"bbox 736 902                     913 1035\"><span class=\"ocr_line\" id=\"line_16\" title=\"bbox 782 902                         913 934;                         baseline 0 0; x_size 0; x_descenders 0; x_ascenders 0\"><span class=\"ocrx_word\" id=\"word_29\" title=\"bbox 782 903                             887 931;                             x_wconf 100\">Subtotal:</span><span class=\"ocrx_word\" id=\"word_30\" title=\"bbox 889 902                             913 934;                             x_wconf 100\">$</span></span><span class=\"ocr_line\" id=\"line_17\" title=\"bbox 736 953                         902 985;                         baseline 0 0; x_size 0; x_descenders 0; x_ascenders 0\"><span class=\"ocrx_word\" id=\"word_31\" title=\"bbox 736 953                             787 982;                             x_wconf 100\">Tax</span><span class=\"ocrx_word\" id=\"word_32\" title=\"bbox 789 954                             846 979;                             x_wconf 100\">Rate</span><span class=\"ocrx_word\" id=\"word_33\" title=\"bbox 851 954                             902 985;                             x_wconf 100\">(%):</span></span><span class=\"ocr_line\" id=\"line_18\" title=\"bbox 767 1002                         913 1035;                         baseline 0 0; x_size 0; x_descenders 0; x_ascenders 0\"><span class=\"ocrx_word\" id=\"word_34\" title=\"bbox 767 1002                             830 1032;                             x_wconf 100\">Total</span><span class=\"ocrx_word\" id=\"word_35\" title=\"bbox 832 1002                             887 1032;                             x_wconf 100\">Tax:</span><span class=\"ocrx_word\" id=\"word_36\" title=\"bbox 889 1002                             913 1035;                             x_wconf 100\">$</span></span></p></div><div class=\"ocr_carea\" id=\"block_8\" title=\"bbox 654 1052                     913 1185\"><p class=\"ocr_par\" id=\"par_8\" title=\"bbox 654 1052                     913 1185\"><span class=\"ocr_line\" id=\"line_19\" title=\"bbox 666 1052                         912 1084;                         baseline 0 0; x_size 0; x_descenders 0; x_ascenders 0\"><span class=\"ocrx_word\" id=\"word_37\" title=\"bbox 666 1052                             729 1081;                             x_wconf 56\">Total</span><span class=\"ocrx_word\" id=\"word_38\" title=\"bbox 732 1055                             825 1078;                             x_wconf 100\">Amount</span><span class=\"ocrx_word\" id=\"word_39\" title=\"bbox 830 1055                             887 1080;                             x_wconf 100\">Due:</span><span class=\"ocrx_word\" id=\"word_40\" title=\"bbox 889 1052                             912 1084;                             x_wconf 100\">$</span></span><span class=\"ocr_line\" id=\"line_20\" title=\"bbox 728 1101                         913 1135;                         baseline 0 0; x_size 0; x_descenders 0; x_ascenders 0\"><span class=\"ocrx_word\" id=\"word_41\" title=\"bbox 728 1104                             820 1128;                             x_wconf 90\">Amount</span><span class=\"ocrx_word\" id=\"word_42\" title=\"bbox 826 1104                             886 1129;                             x_wconf 97\">Paid:</span><span class=\"ocrx_word\" id=\"word_43\" title=\"bbox 889 1101                             913 1135;                             x_wconf 99\">$</span></span><span class=\"ocr_line\" id=\"line_21\" title=\"bbox 654 1151                         912 1185;                         baseline 0 0; x_size 0; x_descenders 0; x_ascenders 0\"><span class=\"ocrx_word\" id=\"word_44\" title=\"bbox 654 1156                             777 1183;                             x_wconf 90\">Remaining</span><span class=\"ocrx_word\" id=\"word_45\" title=\"bbox 783 1156                             886 1179;                             x_wconf 100\">Balance:</span><span class=\"ocrx_word\" id=\"word_46\" title=\"bbox 889 1151                             912 1185;                             x_wconf 100\">$</span></span></p></div><div class=\"ocr_carea\" id=\"block_9\" title=\"bbox 145 1265                     301 1302\"><p class=\"ocr_par\" id=\"par_9\" title=\"bbox 145 1265                     301 1302\"><span class=\"ocr_line\" id=\"line_22\" title=\"bbox 145 1265                         301 1302;                         baseline 0 0; x_size 0; x_descenders 0; x_ascenders 0\"><span class=\"ocrx_word\" id=\"word_47\" title=\"bbox 145 1270                             255 1293;                             x_wconf 100\">Received</span><span class=\"ocrx_word\" id=\"word_48\" title=\"bbox 257 1265                             301 1302;                             x_wconf 100\">By:</span></span></p></div><div class=\"ocr_carea\" id=\"block_10\" title=\"bbox 145 1335                     408 1363\"><p class=\"ocr_par\" id=\"par_10\" title=\"bbox 145 1335                     408 1363\"><span class=\"ocr_line\" id=\"line_23\" title=\"bbox 145 1335                         408 1363;                         baseline 0 0; x_size 0; x_descenders 0; x_ascenders 0\"><span class=\"ocrx_word\" id=\"word_49\" title=\"bbox 145 1335                             280 1358;                             x_wconf 99\">Authorized</span><span class=\"ocrx_word\" id=\"word_50\" title=\"bbox 287 1335                             408 1363;                             x_wconf 88\">Signature</span></span></p></div><div class=\"ocr_carea\" id=\"block_11\" title=\"bbox 1012 1491                     1103 1521\"><p class=\"ocr_par\" id=\"par_11\" title=\"bbox 1012 1491                     1103 1521\"><span class=\"ocr_line\" id=\"line_24\" title=\"bbox 1012 1491                         1103 1521;                         baseline 0 0; x_size 0; x_descenders 0; x_ascenders 0\"><span class=\"ocrx_word\" id=\"word_51\" title=\"bbox 1012 1491                             1065 1521;                             x_wconf 100\">Page</span><span class=\"ocrx_word\" id=\"word_52\" title=\"bbox 1065 1491                             1081 1516;                             x_wconf 100\">1</span><span class=\"ocrx_word\" id=\"word_53\" title=\"bbox 1081 1493                             1103 1514;                             x_wconf 100\">of</span></span></p></div></body></html>'\n"
          ]
        }
      ]
    }
  ]
}